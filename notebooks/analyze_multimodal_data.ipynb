{
  "nbformat": 4,
  "nbformat_minor": 0,
  "metadata": {
    "colab": {
      "provenance": [],
      "toc_visible": true,
      "authorship_tag": "ABX9TyPExYuN7uRTP+pkdnveeYyp",
      "include_colab_link": true
    },
    "kernelspec": {
      "name": "python3",
      "display_name": "Python 3"
    },
    "language_info": {
      "name": "python"
    }
  },
  "cells": [
    {
      "cell_type": "markdown",
      "metadata": {
        "id": "view-in-github",
        "colab_type": "text"
      },
      "source": [
        "<a href=\"https://colab.research.google.com/github/luquelab/lab-data-science/blob/data-distribution/notebooks/analyze_multimodal_data.ipynb\" target=\"_parent\"><img src=\"https://colab.research.google.com/assets/colab-badge.svg\" alt=\"Open In Colab\"/></a>"
      ]
    },
    {
      "cell_type": "markdown",
      "source": [
        "# Analyze multimodal data"
      ],
      "metadata": {
        "id": "GuZSrPzbYyuO"
      }
    },
    {
      "cell_type": "markdown",
      "source": [
        "## Description"
      ],
      "metadata": {
        "id": "D0LfPcKAY0e9"
      }
    },
    {
      "cell_type": "markdown",
      "source": [
        "## Quick-start guide"
      ],
      "metadata": {
        "id": "V06ZbNkDY4ID"
      }
    },
    {
      "cell_type": "markdown",
      "source": [
        "+ Upload data to the notebook as `data_sample.csv`. The notebook will read it in the section [Input data and parameters](#scrollTo=Input_data_and_parameters).\n",
        "+ The notebook explores several binnings automatically in the section [Qualitative multimodality assessment](#scrollTo=Qualitative_multimodality_assessment).\n",
        "+ You can modify the bins used manually in the section [Manual binning](#scrollTo=Manual_binning).\n",
        "+ The notebook can either be run sequentially for exploration or using the `Run all` option after uploading the file."
      ],
      "metadata": {
        "id": "JGgHg4sDoRUJ"
      }
    },
    {
      "cell_type": "markdown",
      "source": [
        "## Import libraries"
      ],
      "metadata": {
        "id": "u5LMX2nMY-Dv"
      }
    },
    {
      "cell_type": "code",
      "source": [
        "import pandas as pd\n",
        "import matplotlib.pyplot as plt\n",
        "import seaborn as sns\n",
        "import numpy as np\n",
        "from google.colab import files\n",
        "import os"
      ],
      "metadata": {
        "id": "2GeKMCC_c18j"
      },
      "execution_count": 3,
      "outputs": []
    },
    {
      "cell_type": "markdown",
      "source": [
        "## Input data and parameters"
      ],
      "metadata": {
        "id": "MQnhXu1xZAjH"
      }
    },
    {
      "cell_type": "code",
      "source": [
        "# Load data as CSV (adjust path as needed)\n",
        "df = pd.read_csv('data_sample.csv')\n",
        "\n",
        "## Rename first column to 'feature'\n",
        "first_col = df.columns[0]\n",
        "df = df.rename(columns={first_col: 'feature'})\n",
        "print(f\"Dataset shape: {df.shape}\")\n"
      ],
      "metadata": {
        "id": "VU7kcwedc_uU",
        "outputId": "e89d3a95-e51d-403b-f073-36b21f85b98b",
        "colab": {
          "base_uri": "https://localhost:8080/"
        }
      },
      "execution_count": 4,
      "outputs": [
        {
          "output_type": "stream",
          "name": "stdout",
          "text": [
            "Dataset shape: (1000, 1)\n"
          ]
        }
      ]
    },
    {
      "cell_type": "markdown",
      "source": [
        "# Code"
      ],
      "metadata": {
        "id": "NS3nj8PJZFzD"
      }
    },
    {
      "cell_type": "markdown",
      "source": [
        "## Prototype"
      ],
      "metadata": {
        "id": "PcOCpysOZ9L1"
      }
    },
    {
      "cell_type": "code",
      "source": [
        "# Import libraries\n",
        "\n",
        "# Load data\n",
        "\n",
        "# Summarize the statistics of the data\n",
        "\n",
        "# Visual exploration of data distribution\n",
        "\n",
        "# Input multimode constraints\n",
        "\n",
        "# Obtain modes\n",
        "\n",
        "# Generate plot with distribution and histogram\n",
        "\n",
        "# Save analysis"
      ],
      "metadata": {
        "id": "0v-06oDqZ-W1"
      },
      "execution_count": 5,
      "outputs": []
    },
    {
      "cell_type": "markdown",
      "source": [
        "## Definitions"
      ],
      "metadata": {
        "id": "Q4SOh9CLZMm_"
      }
    },
    {
      "cell_type": "markdown",
      "source": [
        "### Functions"
      ],
      "metadata": {
        "id": "CKMQI8hJWZqv"
      }
    },
    {
      "cell_type": "code",
      "source": [
        "# Function\n",
        "## This function generates a list with the names of the generated files.\n",
        "\n",
        "def add_filenames(directory=\".\"):\n",
        "  \"\"\"\n",
        "  Adds the names of all files in the specified directory to a list.\n",
        "\n",
        "  Args:\n",
        "      directory: The directory to search for files. Defaults to the current directory.\n",
        "\n",
        "  Returns:\n",
        "      A list of filenames in the directory. Returns an empty list if the directory is invalid.\n",
        "  \"\"\"\n",
        "\n",
        "  filenames = []\n",
        "  if os.path.isdir(directory):\n",
        "    for filename in os.listdir(directory):\n",
        "      if os.path.isfile(os.path.join(directory, filename)):\n",
        "        filenames.append(filename)\n",
        "  return filenames\n",
        "\n",
        "# Example usage\n",
        "# generated_files = add_filenames()  # Get files from the current directory\n",
        "# generated_files\n",
        "\n",
        "# Example usage to get files from a specific directory\n",
        "# generated_files_specific_dir = add_filenames(\"/content/my_directory\")  # Replace with the actual path\n",
        "# print(generated_files_specific_dir)\n",
        "\n",
        "\n",
        "# Function\n",
        "## This function prints the attributes of an object without knowing the name\n",
        "## of the attributes in advance.\n",
        "def print_attributes(obj):\n",
        "  \"\"\"Prints all attributes of an object.\n",
        "\n",
        "  Args:\n",
        "    obj: The object whose attributes you want to print.\n",
        "  \"\"\"\n",
        "  for attr in dir(obj):\n",
        "    if not attr.startswith(\"__\"):  # Exclude special attributes\n",
        "      value = getattr(obj, attr)\n",
        "      print(f\"{attr}: {value}\")\n",
        "\n",
        "## Example\n",
        "# my_object = Modes(n_modes=3, mode_locations=[17, 25, 45], mode_std=[3, 5, 7], mode_intensities=[5, 20, 1])\n",
        "# print_attributes(my_object)"
      ],
      "metadata": {
        "id": "8oOqnJhXmU8R"
      },
      "execution_count": 6,
      "outputs": []
    },
    {
      "cell_type": "markdown",
      "source": [
        "#### Freedman-Diaconis rule\n",
        "This rule uses the interquartile range (IQR) and is widely regarded as robust for various distributions, including normal ones. The formula for bin width is:\n",
        "\n",
        "`h = 2 x IQR x n^(-1/3)`\n",
        "\n",
        "Where\n",
        "+ `h` is the bandwidth\n",
        "+ `IQR` is the interquartile range of data\n",
        "+ `n` is the number of observations\n",
        "\n",
        "This method adjusts the bin width based on data spread and sample size, making it suitable for normal distributions. For more information see [Statistics How To](https://www.statisticshowto.com/choose-bin-sizes-statistics/)\n"
      ],
      "metadata": {
        "id": "LbyyTnf9WoNf"
      }
    },
    {
      "cell_type": "code",
      "source": [
        "def freedman_diaconis_rule(data):\n",
        "  \"\"\"\n",
        "  Calculates the optimal bin size using the Freedman-Diaconis rule.\n",
        "\n",
        "  Args:\n",
        "    data: A 1D numpy array or pandas Series of numerical data.\n",
        "\n",
        "  Returns:\n",
        "    The optimal bin width.\n",
        "    The optimal number of bins.\n",
        "    The optimal number of bins rounded.\n",
        "  \"\"\"\n",
        "\n",
        "  # Bin width\n",
        "  iqr = np.percentile(data, 75) - np.percentile(data, 25)\n",
        "  n = len(data)\n",
        "  h = 2 * iqr / (n ** (1/3))\n",
        "\n",
        "  # Number of bins\n",
        "  range = data.max() - data.min()\n",
        "  k = range / h\n",
        "  kround = round(k)\n",
        "\n",
        "  return h, k, kround\n",
        "\n",
        "# Example usage (assuming 'feature' column in your DataFrame):\n",
        "#h, k, kround = freedman_diaconis_rule(df['feature'])\n",
        "#print(\"Friedman-Diaconis' rule\")\n",
        "#print(f\"Optimal bin size: {h}\")\n",
        "#print(f\"Optimal number of bins: {k}\")\n",
        "#print(f\"Optimal number of bins (rounded): {kround}\")"
      ],
      "metadata": {
        "id": "TugrYJptWYvp"
      },
      "execution_count": 7,
      "outputs": []
    },
    {
      "cell_type": "markdown",
      "source": [
        "#### Rice rule\n",
        "The Rice Rule provides a simple approximation for determining the number of bins (\n",
        "k):\n",
        "\n",
        "`k = 2 x n^(1/3)`\n",
        "\n",
        "The bin width can then be calculated as:\n",
        "\n",
        "`h = range/k`\n",
        "\n",
        "Where `n` is the number of observations.\n",
        "\n",
        "This method is less sensitive to outliers and works reasonably well for large datasets, but it may oversmooth smaller datasets. For more information see [Statistics How To](https://www.statisticshowto.com/choose-bin-sizes-statistics/)\n"
      ],
      "metadata": {
        "id": "Vke2TwEQXt_X"
      }
    },
    {
      "cell_type": "code",
      "source": [
        "def rice_rule(data):\n",
        "  \"\"\"\n",
        "  Calculates the optimal bin size using the Rice rule.\n",
        "\n",
        "  Args:\n",
        "    data: A 1D numpy array or pandas Series of numerical data.\n",
        "\n",
        "  Returns:\n",
        "    The optimal bin width.\n",
        "    The optimal number of bins.\n",
        "    The optimal number of bins rounded.\n",
        "  \"\"\"\n",
        "  # Optimal number of bins\n",
        "  n = len(data)\n",
        "  k = 2 * (n ** (1/3))\n",
        "\n",
        "  # Bin width\n",
        "  range = data.max() - data.min()\n",
        "  h = range / k\n",
        "\n",
        "  return h, k, round(k)\n",
        "\n",
        "# Example usage (assuming 'feature' column in your DataFrame):\n",
        "#h, k, kround = rice_rule(df['feature'])\n",
        "#print(\"Rice's rule\")\n",
        "#print(f\"Optimal bin size: {h}\")\n",
        "#print(f\"Optimal number of bins: {k}\")\n",
        "#print(f\"Optimal number of bins (rounded): {kround}\")"
      ],
      "metadata": {
        "id": "oI5Gwb2YYe1K"
      },
      "execution_count": 8,
      "outputs": []
    },
    {
      "cell_type": "markdown",
      "source": [],
      "metadata": {
        "id": "AJONb84PbkIy"
      }
    },
    {
      "cell_type": "markdown",
      "source": [
        "#### Sturges’ rule\n",
        "Sturges’ Rule calculates the number of bins based on logarithmic scaling:\n",
        "\n",
        "`k = 1 + log2(n)`\n",
        "\n",
        "Where `k` is the number of bins and `n` is the number of observations. While simple, this rule often oversmooths histograms for large datasets, making it less suitable for precise analysis. For more information see [Statistics How To](https://www.statisticshowto.com/choose-bin-sizes-statistics/)"
      ],
      "metadata": {
        "id": "6MNJcVJZYy7n"
      }
    },
    {
      "cell_type": "code",
      "source": [
        "def sturges_rule(data):\n",
        "  \"\"\"\n",
        "  Calculate the optimal number of bins using Sturge's rule.\n",
        "\n",
        "  Args:\n",
        "    data: A 1D numpy array or pandas Series of numerical data.\n",
        "\n",
        "  Returns:\n",
        "    The optimal number of bins.\n",
        "  \"\"\"\n",
        "\n",
        "  # Number of bins\n",
        "  n = len(data)\n",
        "  k = 1 + np.log2(n)\n",
        "  kround = round(k)\n",
        "\n",
        "  # Bin size\n",
        "  range = data.max() - data.min()\n",
        "  h = range / k\n",
        "  h = round(h)\n",
        "\n",
        "  return h, k, kround\n",
        "\n",
        "# Example usage (assuming 'feature' column in your DataFrame):\n",
        "#h, k, kround = sturges_rule(df['feature'])\n",
        "#print(\"Sturge's rule\")\n",
        "#print(f\"Optimal bin size: {h}\")\n",
        "#print(f\"Optimal number of bins: {k}\")\n",
        "#print(f\"Optimal number of bins (rounded): {kround}\")"
      ],
      "metadata": {
        "id": "UxZLl9rJZdJJ"
      },
      "execution_count": 9,
      "outputs": []
    },
    {
      "cell_type": "markdown",
      "source": [
        "## Descriptive statistics\n",
        "\n",
        "Generate summary statistics and supplement with skewness and kurtosis.\n",
        "\n",
        "For categorical variables, use `.value_counts(normalize=True)`\n",
        "\n",
        "Typical values to interpret [skewness](https://en.wikipedia.org/wiki/Skewness):\n",
        "+ `0`: Zero skewness: Symmetrical distribution\n",
        "+ `>0`: Positive skewness (right-skewed): The tail on the right side is longer or fatter.\n",
        "+ `<0`: Negative skewness (left-skewed): The tail on the left side is longer or fatter.\n",
        "+ `0`: Normal distribution\n",
        "+ `1`: Half-normal distribution\n",
        "+ `2`: Exponential distribution\n",
        "+ `>0`: Lognormal distribution\n",
        "\n",
        "Typical values to interpret the [Kurtosis](https://en.wikipedia.org/wiki/Kurtosis):\n",
        "+ `~3`: Mesokurtic: A normal distribution with moderate tails.\n",
        "+ `>3`: Leptokurtic: A distribution with heavy tails.\n",
        "+ `<3`: Platykurtic: A distribution with light tails."
      ],
      "metadata": {
        "id": "IgqwZq_HZT0L"
      }
    },
    {
      "cell_type": "code",
      "source": [
        "# Summary stats\n",
        "stats_summary = df.describe(include='all').T\n",
        "stats_summary['range'] = df.max() - df.min()\n",
        "stats_summary['IQR'] = df.quantile(0.75) - df.quantile(0.25)\n",
        "stats_summary['skewness'] = df.skew()\n",
        "stats_summary['kurtosis'] = df.kurtosis()\n"
      ],
      "metadata": {
        "id": "MZ5goVYrfgBV"
      },
      "execution_count": 10,
      "outputs": []
    },
    {
      "cell_type": "code",
      "source": [
        "# Export the summary\n",
        "# stats_summary.to_csv('statistical_summary.csv')\n",
        "stats_summary.T.to_csv('statistical_summary.csv')"
      ],
      "metadata": {
        "id": "lv-MTYfigLNW"
      },
      "execution_count": 11,
      "outputs": []
    },
    {
      "cell_type": "markdown",
      "source": [
        "## Qualitative multimodality assessment"
      ],
      "metadata": {
        "id": "90I-1nFSlCqk"
      }
    },
    {
      "cell_type": "markdown",
      "source": [
        "### Standard binnings"
      ],
      "metadata": {
        "id": "ceWnphuzgLoE"
      }
    },
    {
      "cell_type": "code",
      "source": [
        "# Calculate and store bin widths and number of bins for each rule\n",
        "bin_stats = pd.DataFrame(columns=['Rule', 'Bin Width', 'Number of Bins'])\n",
        "\n",
        "h, k, kround = freedman_diaconis_rule(df['feature'])\n",
        "bin_stats = pd.concat([bin_stats, pd.DataFrame([{'Rule': 'Freedman-Diaconis', 'Bin Width': h, 'Number of Bins': kround}])], ignore_index=True)\n",
        "\n",
        "h, k, kround = rice_rule(df['feature'])\n",
        "bin_stats = pd.concat([bin_stats, pd.DataFrame([{'Rule': 'Rice', 'Bin Width': h, 'Number of Bins': kround}])], ignore_index=True)\n",
        "\n",
        "h, k, kround = sturges_rule(df['feature'])\n",
        "bin_stats = pd.concat([bin_stats, pd.DataFrame([{'Rule': 'Sturges', 'Bin Width': h, 'Number of Bins': kround}])], ignore_index=True)\n",
        "\n",
        "# Display bin statistics\n",
        "bin_stats\n"
      ],
      "metadata": {
        "colab": {
          "base_uri": "https://localhost:8080/",
          "height": 199
        },
        "id": "Mh1Kyn1QfTJ-",
        "outputId": "7b881afb-fd8a-4f3e-ec69-c7e0cad604ba"
      },
      "execution_count": 12,
      "outputs": [
        {
          "output_type": "stream",
          "name": "stderr",
          "text": [
            "<ipython-input-12-e3d3eb7c0b79>:5: FutureWarning: The behavior of DataFrame concatenation with empty or all-NA entries is deprecated. In a future version, this will no longer exclude empty or all-NA columns when determining the result dtypes. To retain the old behavior, exclude the relevant entries before the concat operation.\n",
            "  bin_stats = pd.concat([bin_stats, pd.DataFrame([{'Rule': 'Freedman-Diaconis', 'Bin Width': h, 'Number of Bins': kround}])], ignore_index=True)\n"
          ]
        },
        {
          "output_type": "execute_result",
          "data": {
            "text/plain": [
              "                Rule  Bin Width Number of Bins\n",
              "0  Freedman-Diaconis   1.805267             23\n",
              "1               Rice   2.042471             20\n",
              "2            Sturges   4.000000             11"
            ],
            "text/html": [
              "\n",
              "  <div id=\"df-52e4883e-f05c-43d3-b908-42fd8ecc5ba6\" class=\"colab-df-container\">\n",
              "    <div>\n",
              "<style scoped>\n",
              "    .dataframe tbody tr th:only-of-type {\n",
              "        vertical-align: middle;\n",
              "    }\n",
              "\n",
              "    .dataframe tbody tr th {\n",
              "        vertical-align: top;\n",
              "    }\n",
              "\n",
              "    .dataframe thead th {\n",
              "        text-align: right;\n",
              "    }\n",
              "</style>\n",
              "<table border=\"1\" class=\"dataframe\">\n",
              "  <thead>\n",
              "    <tr style=\"text-align: right;\">\n",
              "      <th></th>\n",
              "      <th>Rule</th>\n",
              "      <th>Bin Width</th>\n",
              "      <th>Number of Bins</th>\n",
              "    </tr>\n",
              "  </thead>\n",
              "  <tbody>\n",
              "    <tr>\n",
              "      <th>0</th>\n",
              "      <td>Freedman-Diaconis</td>\n",
              "      <td>1.805267</td>\n",
              "      <td>23</td>\n",
              "    </tr>\n",
              "    <tr>\n",
              "      <th>1</th>\n",
              "      <td>Rice</td>\n",
              "      <td>2.042471</td>\n",
              "      <td>20</td>\n",
              "    </tr>\n",
              "    <tr>\n",
              "      <th>2</th>\n",
              "      <td>Sturges</td>\n",
              "      <td>4.000000</td>\n",
              "      <td>11</td>\n",
              "    </tr>\n",
              "  </tbody>\n",
              "</table>\n",
              "</div>\n",
              "    <div class=\"colab-df-buttons\">\n",
              "\n",
              "  <div class=\"colab-df-container\">\n",
              "    <button class=\"colab-df-convert\" onclick=\"convertToInteractive('df-52e4883e-f05c-43d3-b908-42fd8ecc5ba6')\"\n",
              "            title=\"Convert this dataframe to an interactive table.\"\n",
              "            style=\"display:none;\">\n",
              "\n",
              "  <svg xmlns=\"http://www.w3.org/2000/svg\" height=\"24px\" viewBox=\"0 -960 960 960\">\n",
              "    <path d=\"M120-120v-720h720v720H120Zm60-500h600v-160H180v160Zm220 220h160v-160H400v160Zm0 220h160v-160H400v160ZM180-400h160v-160H180v160Zm440 0h160v-160H620v160ZM180-180h160v-160H180v160Zm440 0h160v-160H620v160Z\"/>\n",
              "  </svg>\n",
              "    </button>\n",
              "\n",
              "  <style>\n",
              "    .colab-df-container {\n",
              "      display:flex;\n",
              "      gap: 12px;\n",
              "    }\n",
              "\n",
              "    .colab-df-convert {\n",
              "      background-color: #E8F0FE;\n",
              "      border: none;\n",
              "      border-radius: 50%;\n",
              "      cursor: pointer;\n",
              "      display: none;\n",
              "      fill: #1967D2;\n",
              "      height: 32px;\n",
              "      padding: 0 0 0 0;\n",
              "      width: 32px;\n",
              "    }\n",
              "\n",
              "    .colab-df-convert:hover {\n",
              "      background-color: #E2EBFA;\n",
              "      box-shadow: 0px 1px 2px rgba(60, 64, 67, 0.3), 0px 1px 3px 1px rgba(60, 64, 67, 0.15);\n",
              "      fill: #174EA6;\n",
              "    }\n",
              "\n",
              "    .colab-df-buttons div {\n",
              "      margin-bottom: 4px;\n",
              "    }\n",
              "\n",
              "    [theme=dark] .colab-df-convert {\n",
              "      background-color: #3B4455;\n",
              "      fill: #D2E3FC;\n",
              "    }\n",
              "\n",
              "    [theme=dark] .colab-df-convert:hover {\n",
              "      background-color: #434B5C;\n",
              "      box-shadow: 0px 1px 3px 1px rgba(0, 0, 0, 0.15);\n",
              "      filter: drop-shadow(0px 1px 2px rgba(0, 0, 0, 0.3));\n",
              "      fill: #FFFFFF;\n",
              "    }\n",
              "  </style>\n",
              "\n",
              "    <script>\n",
              "      const buttonEl =\n",
              "        document.querySelector('#df-52e4883e-f05c-43d3-b908-42fd8ecc5ba6 button.colab-df-convert');\n",
              "      buttonEl.style.display =\n",
              "        google.colab.kernel.accessAllowed ? 'block' : 'none';\n",
              "\n",
              "      async function convertToInteractive(key) {\n",
              "        const element = document.querySelector('#df-52e4883e-f05c-43d3-b908-42fd8ecc5ba6');\n",
              "        const dataTable =\n",
              "          await google.colab.kernel.invokeFunction('convertToInteractive',\n",
              "                                                    [key], {});\n",
              "        if (!dataTable) return;\n",
              "\n",
              "        const docLinkHtml = 'Like what you see? Visit the ' +\n",
              "          '<a target=\"_blank\" href=https://colab.research.google.com/notebooks/data_table.ipynb>data table notebook</a>'\n",
              "          + ' to learn more about interactive tables.';\n",
              "        element.innerHTML = '';\n",
              "        dataTable['output_type'] = 'display_data';\n",
              "        await google.colab.output.renderOutput(dataTable, element);\n",
              "        const docLink = document.createElement('div');\n",
              "        docLink.innerHTML = docLinkHtml;\n",
              "        element.appendChild(docLink);\n",
              "      }\n",
              "    </script>\n",
              "  </div>\n",
              "\n",
              "\n",
              "<div id=\"df-608ad241-d496-43d3-84db-290c9b0690d6\">\n",
              "  <button class=\"colab-df-quickchart\" onclick=\"quickchart('df-608ad241-d496-43d3-84db-290c9b0690d6')\"\n",
              "            title=\"Suggest charts\"\n",
              "            style=\"display:none;\">\n",
              "\n",
              "<svg xmlns=\"http://www.w3.org/2000/svg\" height=\"24px\"viewBox=\"0 0 24 24\"\n",
              "     width=\"24px\">\n",
              "    <g>\n",
              "        <path d=\"M19 3H5c-1.1 0-2 .9-2 2v14c0 1.1.9 2 2 2h14c1.1 0 2-.9 2-2V5c0-1.1-.9-2-2-2zM9 17H7v-7h2v7zm4 0h-2V7h2v10zm4 0h-2v-4h2v4z\"/>\n",
              "    </g>\n",
              "</svg>\n",
              "  </button>\n",
              "\n",
              "<style>\n",
              "  .colab-df-quickchart {\n",
              "      --bg-color: #E8F0FE;\n",
              "      --fill-color: #1967D2;\n",
              "      --hover-bg-color: #E2EBFA;\n",
              "      --hover-fill-color: #174EA6;\n",
              "      --disabled-fill-color: #AAA;\n",
              "      --disabled-bg-color: #DDD;\n",
              "  }\n",
              "\n",
              "  [theme=dark] .colab-df-quickchart {\n",
              "      --bg-color: #3B4455;\n",
              "      --fill-color: #D2E3FC;\n",
              "      --hover-bg-color: #434B5C;\n",
              "      --hover-fill-color: #FFFFFF;\n",
              "      --disabled-bg-color: #3B4455;\n",
              "      --disabled-fill-color: #666;\n",
              "  }\n",
              "\n",
              "  .colab-df-quickchart {\n",
              "    background-color: var(--bg-color);\n",
              "    border: none;\n",
              "    border-radius: 50%;\n",
              "    cursor: pointer;\n",
              "    display: none;\n",
              "    fill: var(--fill-color);\n",
              "    height: 32px;\n",
              "    padding: 0;\n",
              "    width: 32px;\n",
              "  }\n",
              "\n",
              "  .colab-df-quickchart:hover {\n",
              "    background-color: var(--hover-bg-color);\n",
              "    box-shadow: 0 1px 2px rgba(60, 64, 67, 0.3), 0 1px 3px 1px rgba(60, 64, 67, 0.15);\n",
              "    fill: var(--button-hover-fill-color);\n",
              "  }\n",
              "\n",
              "  .colab-df-quickchart-complete:disabled,\n",
              "  .colab-df-quickchart-complete:disabled:hover {\n",
              "    background-color: var(--disabled-bg-color);\n",
              "    fill: var(--disabled-fill-color);\n",
              "    box-shadow: none;\n",
              "  }\n",
              "\n",
              "  .colab-df-spinner {\n",
              "    border: 2px solid var(--fill-color);\n",
              "    border-color: transparent;\n",
              "    border-bottom-color: var(--fill-color);\n",
              "    animation:\n",
              "      spin 1s steps(1) infinite;\n",
              "  }\n",
              "\n",
              "  @keyframes spin {\n",
              "    0% {\n",
              "      border-color: transparent;\n",
              "      border-bottom-color: var(--fill-color);\n",
              "      border-left-color: var(--fill-color);\n",
              "    }\n",
              "    20% {\n",
              "      border-color: transparent;\n",
              "      border-left-color: var(--fill-color);\n",
              "      border-top-color: var(--fill-color);\n",
              "    }\n",
              "    30% {\n",
              "      border-color: transparent;\n",
              "      border-left-color: var(--fill-color);\n",
              "      border-top-color: var(--fill-color);\n",
              "      border-right-color: var(--fill-color);\n",
              "    }\n",
              "    40% {\n",
              "      border-color: transparent;\n",
              "      border-right-color: var(--fill-color);\n",
              "      border-top-color: var(--fill-color);\n",
              "    }\n",
              "    60% {\n",
              "      border-color: transparent;\n",
              "      border-right-color: var(--fill-color);\n",
              "    }\n",
              "    80% {\n",
              "      border-color: transparent;\n",
              "      border-right-color: var(--fill-color);\n",
              "      border-bottom-color: var(--fill-color);\n",
              "    }\n",
              "    90% {\n",
              "      border-color: transparent;\n",
              "      border-bottom-color: var(--fill-color);\n",
              "    }\n",
              "  }\n",
              "</style>\n",
              "\n",
              "  <script>\n",
              "    async function quickchart(key) {\n",
              "      const quickchartButtonEl =\n",
              "        document.querySelector('#' + key + ' button');\n",
              "      quickchartButtonEl.disabled = true;  // To prevent multiple clicks.\n",
              "      quickchartButtonEl.classList.add('colab-df-spinner');\n",
              "      try {\n",
              "        const charts = await google.colab.kernel.invokeFunction(\n",
              "            'suggestCharts', [key], {});\n",
              "      } catch (error) {\n",
              "        console.error('Error during call to suggestCharts:', error);\n",
              "      }\n",
              "      quickchartButtonEl.classList.remove('colab-df-spinner');\n",
              "      quickchartButtonEl.classList.add('colab-df-quickchart-complete');\n",
              "    }\n",
              "    (() => {\n",
              "      let quickchartButtonEl =\n",
              "        document.querySelector('#df-608ad241-d496-43d3-84db-290c9b0690d6 button');\n",
              "      quickchartButtonEl.style.display =\n",
              "        google.colab.kernel.accessAllowed ? 'block' : 'none';\n",
              "    })();\n",
              "  </script>\n",
              "</div>\n",
              "\n",
              "  <div id=\"id_1f9896f1-878d-46e6-b6a6-e2e6ccedf4bc\">\n",
              "    <style>\n",
              "      .colab-df-generate {\n",
              "        background-color: #E8F0FE;\n",
              "        border: none;\n",
              "        border-radius: 50%;\n",
              "        cursor: pointer;\n",
              "        display: none;\n",
              "        fill: #1967D2;\n",
              "        height: 32px;\n",
              "        padding: 0 0 0 0;\n",
              "        width: 32px;\n",
              "      }\n",
              "\n",
              "      .colab-df-generate:hover {\n",
              "        background-color: #E2EBFA;\n",
              "        box-shadow: 0px 1px 2px rgba(60, 64, 67, 0.3), 0px 1px 3px 1px rgba(60, 64, 67, 0.15);\n",
              "        fill: #174EA6;\n",
              "      }\n",
              "\n",
              "      [theme=dark] .colab-df-generate {\n",
              "        background-color: #3B4455;\n",
              "        fill: #D2E3FC;\n",
              "      }\n",
              "\n",
              "      [theme=dark] .colab-df-generate:hover {\n",
              "        background-color: #434B5C;\n",
              "        box-shadow: 0px 1px 3px 1px rgba(0, 0, 0, 0.15);\n",
              "        filter: drop-shadow(0px 1px 2px rgba(0, 0, 0, 0.3));\n",
              "        fill: #FFFFFF;\n",
              "      }\n",
              "    </style>\n",
              "    <button class=\"colab-df-generate\" onclick=\"generateWithVariable('bin_stats')\"\n",
              "            title=\"Generate code using this dataframe.\"\n",
              "            style=\"display:none;\">\n",
              "\n",
              "  <svg xmlns=\"http://www.w3.org/2000/svg\" height=\"24px\"viewBox=\"0 0 24 24\"\n",
              "       width=\"24px\">\n",
              "    <path d=\"M7,19H8.4L18.45,9,17,7.55,7,17.6ZM5,21V16.75L18.45,3.32a2,2,0,0,1,2.83,0l1.4,1.43a1.91,1.91,0,0,1,.58,1.4,1.91,1.91,0,0,1-.58,1.4L9.25,21ZM18.45,9,17,7.55Zm-12,3A5.31,5.31,0,0,0,4.9,8.1,5.31,5.31,0,0,0,1,6.5,5.31,5.31,0,0,0,4.9,4.9,5.31,5.31,0,0,0,6.5,1,5.31,5.31,0,0,0,8.1,4.9,5.31,5.31,0,0,0,12,6.5,5.46,5.46,0,0,0,6.5,12Z\"/>\n",
              "  </svg>\n",
              "    </button>\n",
              "    <script>\n",
              "      (() => {\n",
              "      const buttonEl =\n",
              "        document.querySelector('#id_1f9896f1-878d-46e6-b6a6-e2e6ccedf4bc button.colab-df-generate');\n",
              "      buttonEl.style.display =\n",
              "        google.colab.kernel.accessAllowed ? 'block' : 'none';\n",
              "\n",
              "      buttonEl.onclick = () => {\n",
              "        google.colab.notebook.generateWithVariable('bin_stats');\n",
              "      }\n",
              "      })();\n",
              "    </script>\n",
              "  </div>\n",
              "\n",
              "    </div>\n",
              "  </div>\n"
            ],
            "application/vnd.google.colaboratory.intrinsic+json": {
              "type": "dataframe",
              "variable_name": "bin_stats",
              "summary": "{\n  \"name\": \"bin_stats\",\n  \"rows\": 3,\n  \"fields\": [\n    {\n      \"column\": \"Rule\",\n      \"properties\": {\n        \"dtype\": \"string\",\n        \"num_unique_values\": 3,\n        \"samples\": [\n          \"Freedman-Diaconis\",\n          \"Rice\",\n          \"Sturges\"\n        ],\n        \"semantic_type\": \"\",\n        \"description\": \"\"\n      }\n    },\n    {\n      \"column\": \"Bin Width\",\n      \"properties\": {\n        \"dtype\": \"number\",\n        \"std\": 1.2045079045530915,\n        \"min\": 1.8052674867461296,\n        \"max\": 4.0,\n        \"num_unique_values\": 3,\n        \"samples\": [\n          1.8052674867461296,\n          2.0424711001233122,\n          4.0\n        ],\n        \"semantic_type\": \"\",\n        \"description\": \"\"\n      }\n    },\n    {\n      \"column\": \"Number of Bins\",\n      \"properties\": {\n        \"dtype\": \"date\",\n        \"min\": 11,\n        \"max\": 23,\n        \"num_unique_values\": 3,\n        \"samples\": [\n          23,\n          20,\n          11\n        ],\n        \"semantic_type\": \"\",\n        \"description\": \"\"\n      }\n    }\n  ]\n}"
            }
          },
          "metadata": {},
          "execution_count": 12
        }
      ]
    },
    {
      "cell_type": "code",
      "source": [
        "# Save bin statistics\n",
        "bin_stats.to_csv('bin_statistics.csv', index=False)"
      ],
      "metadata": {
        "id": "KfOU-DfTgZWM"
      },
      "execution_count": 13,
      "outputs": []
    },
    {
      "cell_type": "markdown",
      "source": [
        "#### Plots"
      ],
      "metadata": {
        "id": "wDjt69lEiWiB"
      }
    },
    {
      "cell_type": "code",
      "source": [
        "fig, axes = plt.subplots(nrows=3, ncols=1, figsize=(5, 10))\n",
        "\n",
        "# Freedman-Diaconis\n",
        "rule = 'Freedman-Diaconis'\n",
        "rule_stats = bin_stats[bin_stats['Rule'] == rule]\n",
        "h = rule_stats['Bin Width'].iloc[0]\n",
        "kround = rule_stats['Number of Bins'].iloc[0]\n",
        "sns.histplot(df['feature'], kde=True, bins=kround, ax=axes[0])\n",
        "axes[0].set_title(f'Freedman-Diaconis Rule\\nBinwidth: {h:.2f}, Number of bins: {kround}')\n",
        "\n",
        "# Rice Rule\n",
        "rule = 'Rice'\n",
        "rule_stats = bin_stats[bin_stats['Rule'] == rule]\n",
        "h = rule_stats['Bin Width'].iloc[0]\n",
        "kround = rule_stats['Number of Bins'].iloc[0]\n",
        "sns.histplot(df['feature'], kde=True, bins=kround, ax=axes[1])\n",
        "axes[1].set_title(f'Rice Rule\\nBinwidth: {h:.2f}, Number of bins: {kround}')\n",
        "\n",
        "# Sturges' Rule\n",
        "rule = 'Sturges'\n",
        "rule_stats = bin_stats[bin_stats['Rule'] == rule]\n",
        "h = rule_stats['Bin Width'].iloc[0]\n",
        "kround = rule_stats['Number of Bins'].iloc[0]\n",
        "sns.histplot(df['feature'], kde=True, bins=kround, ax=axes[2])\n",
        "axes[2].set_title(f\"Sturges' Rule\\nBinwidth: {h:.2f}, Number of bins: {kround}\")\n",
        "\n",
        "plt.tight_layout()\n",
        "\n",
        "plt.savefig('distribution_binnig_rules.png')\n",
        "plt.savefig('distribution_binnig_rules.pdf')\n",
        "\n",
        "plt.show()\n"
      ],
      "metadata": {
        "colab": {
          "base_uri": "https://localhost:8080/",
          "height": 1000
        },
        "id": "kOpC-1Khecrf",
        "outputId": "2f475007-2841-4178-df3c-6b621474570f"
      },
      "execution_count": 14,
      "outputs": [
        {
          "output_type": "display_data",
          "data": {
            "text/plain": [
              "<Figure size 500x1000 with 3 Axes>"
            ],
            "image/png": "[encoded data removed]"
          },
          "metadata": {}
        }
      ]
    },
    {
      "cell_type": "markdown",
      "source": [
        "### Manual binning\n",
        "Input number of bins for manual exploration. The code cell will generate the plot."
      ],
      "metadata": {
        "id": "QCiFX1opilAQ"
      }
    },
    {
      "cell_type": "code",
      "source": [
        "# Number of bins\n",
        "bins = 30\n",
        "\n",
        "# Plot\n",
        "plt.figure(figsize=(10, 6))\n",
        "sns.histplot(df['feature'], bins=bins, kde=True, stat='density')\n",
        "plt.title(f\"Manual binning (Number of bins: {bins})\")\n",
        "plt.xlabel('Feature Values')\n",
        "plt.ylabel('Density')\n",
        "\n",
        "\n",
        "plt.savefig('distribution_binnig_manual.png')\n",
        "plt.savefig('distribution_binnig_manual.pdf')\n",
        "\n",
        "plt.show()\n"
      ],
      "metadata": {
        "colab": {
          "base_uri": "https://localhost:8080/",
          "height": 419
        },
        "id": "DHdByIi0irwB",
        "outputId": "6f6abf4a-3645-469e-bd3c-a973d918bfaa"
      },
      "execution_count": 15,
      "outputs": [
        {
          "output_type": "display_data",
          "data": {
            "text/plain": [
              "<Figure size 1000x600 with 1 Axes>"
            ],
            "image/png": "[encoded data removed]"
          },
          "metadata": {}
        }
      ]
    },
    {
      "cell_type": "code",
      "source": [
        "# Add the manual binning to the bin_stats data frame\n",
        "\n",
        "# Add a new row to the bin_stats DataFrame for manual binning\n",
        "rule = 'Manual'\n",
        "bin_width = (df['feature'].max() - df['feature'].min()) / bins\n",
        "number_of_bins = bins\n",
        "manual_binning_data = {'Rule': rule, 'Bin Width': bin_width, 'Number of Bins': number_of_bins}\n",
        "bin_stats = pd.concat([bin_stats, pd.DataFrame([manual_binning_data])], ignore_index=True)\n",
        "\n",
        "# Display the updated bin_stats DataFrame\n",
        "bin_stats"
      ],
      "metadata": {
        "id": "YFcPLso3m4Yz",
        "outputId": "b12371f4-2036-4d57-c894-a188f41bc64a",
        "colab": {
          "base_uri": "https://localhost:8080/",
          "height": 175
        }
      },
      "execution_count": 16,
      "outputs": [
        {
          "output_type": "execute_result",
          "data": {
            "text/plain": [
              "                Rule  Bin Width Number of Bins\n",
              "0  Freedman-Diaconis   1.805267             23\n",
              "1               Rice   2.042471             20\n",
              "2            Sturges   4.000000             11\n",
              "3             Manual   1.361647             30"
            ],
            "text/html": [
              "\n",
              "  <div id=\"df-3f87180b-c16d-4f8c-8837-544e5049e980\" class=\"colab-df-container\">\n",
              "    <div>\n",
              "<style scoped>\n",
              "    .dataframe tbody tr th:only-of-type {\n",
              "        vertical-align: middle;\n",
              "    }\n",
              "\n",
              "    .dataframe tbody tr th {\n",
              "        vertical-align: top;\n",
              "    }\n",
              "\n",
              "    .dataframe thead th {\n",
              "        text-align: right;\n",
              "    }\n",
              "</style>\n",
              "<table border=\"1\" class=\"dataframe\">\n",
              "  <thead>\n",
              "    <tr style=\"text-align: right;\">\n",
              "      <th></th>\n",
              "      <th>Rule</th>\n",
              "      <th>Bin Width</th>\n",
              "      <th>Number of Bins</th>\n",
              "    </tr>\n",
              "  </thead>\n",
              "  <tbody>\n",
              "    <tr>\n",
              "      <th>0</th>\n",
              "      <td>Freedman-Diaconis</td>\n",
              "      <td>1.805267</td>\n",
              "      <td>23</td>\n",
              "    </tr>\n",
              "    <tr>\n",
              "      <th>1</th>\n",
              "      <td>Rice</td>\n",
              "      <td>2.042471</td>\n",
              "      <td>20</td>\n",
              "    </tr>\n",
              "    <tr>\n",
              "      <th>2</th>\n",
              "      <td>Sturges</td>\n",
              "      <td>4.000000</td>\n",
              "      <td>11</td>\n",
              "    </tr>\n",
              "    <tr>\n",
              "      <th>3</th>\n",
              "      <td>Manual</td>\n",
              "      <td>1.361647</td>\n",
              "      <td>30</td>\n",
              "    </tr>\n",
              "  </tbody>\n",
              "</table>\n",
              "</div>\n",
              "    <div class=\"colab-df-buttons\">\n",
              "\n",
              "  <div class=\"colab-df-container\">\n",
              "    <button class=\"colab-df-convert\" onclick=\"convertToInteractive('df-3f87180b-c16d-4f8c-8837-544e5049e980')\"\n",
              "            title=\"Convert this dataframe to an interactive table.\"\n",
              "            style=\"display:none;\">\n",
              "\n",
              "  <svg xmlns=\"http://www.w3.org/2000/svg\" height=\"24px\" viewBox=\"0 -960 960 960\">\n",
              "    <path d=\"M120-120v-720h720v720H120Zm60-500h600v-160H180v160Zm220 220h160v-160H400v160Zm0 220h160v-160H400v160ZM180-400h160v-160H180v160Zm440 0h160v-160H620v160ZM180-180h160v-160H180v160Zm440 0h160v-160H620v160Z\"/>\n",
              "  </svg>\n",
              "    </button>\n",
              "\n",
              "  <style>\n",
              "    .colab-df-container {\n",
              "      display:flex;\n",
              "      gap: 12px;\n",
              "    }\n",
              "\n",
              "    .colab-df-convert {\n",
              "      background-color: #E8F0FE;\n",
              "      border: none;\n",
              "      border-radius: 50%;\n",
              "      cursor: pointer;\n",
              "      display: none;\n",
              "      fill: #1967D2;\n",
              "      height: 32px;\n",
              "      padding: 0 0 0 0;\n",
              "      width: 32px;\n",
              "    }\n",
              "\n",
              "    .colab-df-convert:hover {\n",
              "      background-color: #E2EBFA;\n",
              "      box-shadow: 0px 1px 2px rgba(60, 64, 67, 0.3), 0px 1px 3px 1px rgba(60, 64, 67, 0.15);\n",
              "      fill: #174EA6;\n",
              "    }\n",
              "\n",
              "    .colab-df-buttons div {\n",
              "      margin-bottom: 4px;\n",
              "    }\n",
              "\n",
              "    [theme=dark] .colab-df-convert {\n",
              "      background-color: #3B4455;\n",
              "      fill: #D2E3FC;\n",
              "    }\n",
              "\n",
              "    [theme=dark] .colab-df-convert:hover {\n",
              "      background-color: #434B5C;\n",
              "      box-shadow: 0px 1px 3px 1px rgba(0, 0, 0, 0.15);\n",
              "      filter: drop-shadow(0px 1px 2px rgba(0, 0, 0, 0.3));\n",
              "      fill: #FFFFFF;\n",
              "    }\n",
              "  </style>\n",
              "\n",
              "    <script>\n",
              "      const buttonEl =\n",
              "        document.querySelector('#df-3f87180b-c16d-4f8c-8837-544e5049e980 button.colab-df-convert');\n",
              "      buttonEl.style.display =\n",
              "        google.colab.kernel.accessAllowed ? 'block' : 'none';\n",
              "\n",
              "      async function convertToInteractive(key) {\n",
              "        const element = document.querySelector('#df-3f87180b-c16d-4f8c-8837-544e5049e980');\n",
              "        const dataTable =\n",
              "          await google.colab.kernel.invokeFunction('convertToInteractive',\n",
              "                                                    [key], {});\n",
              "        if (!dataTable) return;\n",
              "\n",
              "        const docLinkHtml = 'Like what you see? Visit the ' +\n",
              "          '<a target=\"_blank\" href=https://colab.research.google.com/notebooks/data_table.ipynb>data table notebook</a>'\n",
              "          + ' to learn more about interactive tables.';\n",
              "        element.innerHTML = '';\n",
              "        dataTable['output_type'] = 'display_data';\n",
              "        await google.colab.output.renderOutput(dataTable, element);\n",
              "        const docLink = document.createElement('div');\n",
              "        docLink.innerHTML = docLinkHtml;\n",
              "        element.appendChild(docLink);\n",
              "      }\n",
              "    </script>\n",
              "  </div>\n",
              "\n",
              "\n",
              "<div id=\"df-c6c162af-6a11-4fa0-b22b-de3b88ede7bb\">\n",
              "  <button class=\"colab-df-quickchart\" onclick=\"quickchart('df-c6c162af-6a11-4fa0-b22b-de3b88ede7bb')\"\n",
              "            title=\"Suggest charts\"\n",
              "            style=\"display:none;\">\n",
              "\n",
              "<svg xmlns=\"http://www.w3.org/2000/svg\" height=\"24px\"viewBox=\"0 0 24 24\"\n",
              "     width=\"24px\">\n",
              "    <g>\n",
              "        <path d=\"M19 3H5c-1.1 0-2 .9-2 2v14c0 1.1.9 2 2 2h14c1.1 0 2-.9 2-2V5c0-1.1-.9-2-2-2zM9 17H7v-7h2v7zm4 0h-2V7h2v10zm4 0h-2v-4h2v4z\"/>\n",
              "    </g>\n",
              "</svg>\n",
              "  </button>\n",
              "\n",
              "<style>\n",
              "  .colab-df-quickchart {\n",
              "      --bg-color: #E8F0FE;\n",
              "      --fill-color: #1967D2;\n",
              "      --hover-bg-color: #E2EBFA;\n",
              "      --hover-fill-color: #174EA6;\n",
              "      --disabled-fill-color: #AAA;\n",
              "      --disabled-bg-color: #DDD;\n",
              "  }\n",
              "\n",
              "  [theme=dark] .colab-df-quickchart {\n",
              "      --bg-color: #3B4455;\n",
              "      --fill-color: #D2E3FC;\n",
              "      --hover-bg-color: #434B5C;\n",
              "      --hover-fill-color: #FFFFFF;\n",
              "      --disabled-bg-color: #3B4455;\n",
              "      --disabled-fill-color: #666;\n",
              "  }\n",
              "\n",
              "  .colab-df-quickchart {\n",
              "    background-color: var(--bg-color);\n",
              "    border: none;\n",
              "    border-radius: 50%;\n",
              "    cursor: pointer;\n",
              "    display: none;\n",
              "    fill: var(--fill-color);\n",
              "    height: 32px;\n",
              "    padding: 0;\n",
              "    width: 32px;\n",
              "  }\n",
              "\n",
              "  .colab-df-quickchart:hover {\n",
              "    background-color: var(--hover-bg-color);\n",
              "    box-shadow: 0 1px 2px rgba(60, 64, 67, 0.3), 0 1px 3px 1px rgba(60, 64, 67, 0.15);\n",
              "    fill: var(--button-hover-fill-color);\n",
              "  }\n",
              "\n",
              "  .colab-df-quickchart-complete:disabled,\n",
              "  .colab-df-quickchart-complete:disabled:hover {\n",
              "    background-color: var(--disabled-bg-color);\n",
              "    fill: var(--disabled-fill-color);\n",
              "    box-shadow: none;\n",
              "  }\n",
              "\n",
              "  .colab-df-spinner {\n",
              "    border: 2px solid var(--fill-color);\n",
              "    border-color: transparent;\n",
              "    border-bottom-color: var(--fill-color);\n",
              "    animation:\n",
              "      spin 1s steps(1) infinite;\n",
              "  }\n",
              "\n",
              "  @keyframes spin {\n",
              "    0% {\n",
              "      border-color: transparent;\n",
              "      border-bottom-color: var(--fill-color);\n",
              "      border-left-color: var(--fill-color);\n",
              "    }\n",
              "    20% {\n",
              "      border-color: transparent;\n",
              "      border-left-color: var(--fill-color);\n",
              "      border-top-color: var(--fill-color);\n",
              "    }\n",
              "    30% {\n",
              "      border-color: transparent;\n",
              "      border-left-color: var(--fill-color);\n",
              "      border-top-color: var(--fill-color);\n",
              "      border-right-color: var(--fill-color);\n",
              "    }\n",
              "    40% {\n",
              "      border-color: transparent;\n",
              "      border-right-color: var(--fill-color);\n",
              "      border-top-color: var(--fill-color);\n",
              "    }\n",
              "    60% {\n",
              "      border-color: transparent;\n",
              "      border-right-color: var(--fill-color);\n",
              "    }\n",
              "    80% {\n",
              "      border-color: transparent;\n",
              "      border-right-color: var(--fill-color);\n",
              "      border-bottom-color: var(--fill-color);\n",
              "    }\n",
              "    90% {\n",
              "      border-color: transparent;\n",
              "      border-bottom-color: var(--fill-color);\n",
              "    }\n",
              "  }\n",
              "</style>\n",
              "\n",
              "  <script>\n",
              "    async function quickchart(key) {\n",
              "      const quickchartButtonEl =\n",
              "        document.querySelector('#' + key + ' button');\n",
              "      quickchartButtonEl.disabled = true;  // To prevent multiple clicks.\n",
              "      quickchartButtonEl.classList.add('colab-df-spinner');\n",
              "      try {\n",
              "        const charts = await google.colab.kernel.invokeFunction(\n",
              "            'suggestCharts', [key], {});\n",
              "      } catch (error) {\n",
              "        console.error('Error during call to suggestCharts:', error);\n",
              "      }\n",
              "      quickchartButtonEl.classList.remove('colab-df-spinner');\n",
              "      quickchartButtonEl.classList.add('colab-df-quickchart-complete');\n",
              "    }\n",
              "    (() => {\n",
              "      let quickchartButtonEl =\n",
              "        document.querySelector('#df-c6c162af-6a11-4fa0-b22b-de3b88ede7bb button');\n",
              "      quickchartButtonEl.style.display =\n",
              "        google.colab.kernel.accessAllowed ? 'block' : 'none';\n",
              "    })();\n",
              "  </script>\n",
              "</div>\n",
              "\n",
              "  <div id=\"id_84ed6677-dcff-401d-a9c1-25290a093c84\">\n",
              "    <style>\n",
              "      .colab-df-generate {\n",
              "        background-color: #E8F0FE;\n",
              "        border: none;\n",
              "        border-radius: 50%;\n",
              "        cursor: pointer;\n",
              "        display: none;\n",
              "        fill: #1967D2;\n",
              "        height: 32px;\n",
              "        padding: 0 0 0 0;\n",
              "        width: 32px;\n",
              "      }\n",
              "\n",
              "      .colab-df-generate:hover {\n",
              "        background-color: #E2EBFA;\n",
              "        box-shadow: 0px 1px 2px rgba(60, 64, 67, 0.3), 0px 1px 3px 1px rgba(60, 64, 67, 0.15);\n",
              "        fill: #174EA6;\n",
              "      }\n",
              "\n",
              "      [theme=dark] .colab-df-generate {\n",
              "        background-color: #3B4455;\n",
              "        fill: #D2E3FC;\n",
              "      }\n",
              "\n",
              "      [theme=dark] .colab-df-generate:hover {\n",
              "        background-color: #434B5C;\n",
              "        box-shadow: 0px 1px 3px 1px rgba(0, 0, 0, 0.15);\n",
              "        filter: drop-shadow(0px 1px 2px rgba(0, 0, 0, 0.3));\n",
              "        fill: #FFFFFF;\n",
              "      }\n",
              "    </style>\n",
              "    <button class=\"colab-df-generate\" onclick=\"generateWithVariable('bin_stats')\"\n",
              "            title=\"Generate code using this dataframe.\"\n",
              "            style=\"display:none;\">\n",
              "\n",
              "  <svg xmlns=\"http://www.w3.org/2000/svg\" height=\"24px\"viewBox=\"0 0 24 24\"\n",
              "       width=\"24px\">\n",
              "    <path d=\"M7,19H8.4L18.45,9,17,7.55,7,17.6ZM5,21V16.75L18.45,3.32a2,2,0,0,1,2.83,0l1.4,1.43a1.91,1.91,0,0,1,.58,1.4,1.91,1.91,0,0,1-.58,1.4L9.25,21ZM18.45,9,17,7.55Zm-12,3A5.31,5.31,0,0,0,4.9,8.1,5.31,5.31,0,0,0,1,6.5,5.31,5.31,0,0,0,4.9,4.9,5.31,5.31,0,0,0,6.5,1,5.31,5.31,0,0,0,8.1,4.9,5.31,5.31,0,0,0,12,6.5,5.46,5.46,0,0,0,6.5,12Z\"/>\n",
              "  </svg>\n",
              "    </button>\n",
              "    <script>\n",
              "      (() => {\n",
              "      const buttonEl =\n",
              "        document.querySelector('#id_84ed6677-dcff-401d-a9c1-25290a093c84 button.colab-df-generate');\n",
              "      buttonEl.style.display =\n",
              "        google.colab.kernel.accessAllowed ? 'block' : 'none';\n",
              "\n",
              "      buttonEl.onclick = () => {\n",
              "        google.colab.notebook.generateWithVariable('bin_stats');\n",
              "      }\n",
              "      })();\n",
              "    </script>\n",
              "  </div>\n",
              "\n",
              "    </div>\n",
              "  </div>\n"
            ],
            "application/vnd.google.colaboratory.intrinsic+json": {
              "type": "dataframe",
              "variable_name": "bin_stats",
              "summary": "{\n  \"name\": \"bin_stats\",\n  \"rows\": 4,\n  \"fields\": [\n    {\n      \"column\": \"Rule\",\n      \"properties\": {\n        \"dtype\": \"string\",\n        \"num_unique_values\": 4,\n        \"samples\": [\n          \"Rice\",\n          \"Manual\",\n          \"Freedman-Diaconis\"\n        ],\n        \"semantic_type\": \"\",\n        \"description\": \"\"\n      }\n    },\n    {\n      \"column\": \"Bin Width\",\n      \"properties\": {\n        \"dtype\": \"number\",\n        \"std\": 1.1664140161947791,\n        \"min\": 1.361647400082208,\n        \"max\": 4.0,\n        \"num_unique_values\": 4,\n        \"samples\": [\n          2.0424711001233122,\n          1.361647400082208,\n          1.8052674867461296\n        ],\n        \"semantic_type\": \"\",\n        \"description\": \"\"\n      }\n    },\n    {\n      \"column\": \"Number of Bins\",\n      \"properties\": {\n        \"dtype\": \"date\",\n        \"min\": 11,\n        \"max\": 30,\n        \"num_unique_values\": 4,\n        \"samples\": [\n          20,\n          30,\n          23\n        ],\n        \"semantic_type\": \"\",\n        \"description\": \"\"\n      }\n    }\n  ]\n}"
            }
          },
          "metadata": {},
          "execution_count": 16
        }
      ]
    },
    {
      "cell_type": "code",
      "source": [
        "# Save the updated bin statistics to CSV\n",
        "bin_stats.to_csv('bin_statistics.csv', index=False)"
      ],
      "metadata": {
        "id": "sDOLTfu_nc3q"
      },
      "execution_count": 17,
      "outputs": []
    },
    {
      "cell_type": "markdown",
      "source": [
        "## Identify modes"
      ],
      "metadata": {
        "id": "laUqk8G0ZaxN"
      }
    },
    {
      "cell_type": "markdown",
      "source": [
        "# Outputs"
      ],
      "metadata": {
        "id": "kLGDo6uxZHdT"
      }
    },
    {
      "cell_type": "markdown",
      "source": [
        "## Download files"
      ],
      "metadata": {
        "id": "lNpgsk5tZjju"
      }
    },
    {
      "cell_type": "code",
      "source": [
        "# Download the generated files\n",
        "generated_files = add_filenames()\n",
        "for file in generated_files:\n",
        "  files.download(file)"
      ],
      "metadata": {
        "id": "4mkaa9S4mekK",
        "outputId": "5b27277f-26c1-4c94-e27c-91ce08e9a996",
        "colab": {
          "base_uri": "https://localhost:8080/",
          "height": 17
        }
      },
      "execution_count": 18,
      "outputs": [
        {
          "output_type": "display_data",
          "data": {
            "text/plain": [
              "<IPython.core.display.Javascript object>"
            ],
            "application/javascript": [
              "\n",
              "    async function download(id, filename, size) {\n",
              "      if (!google.colab.kernel.accessAllowed) {\n",
              "        return;\n",
              "      }\n",
              "      const div = document.createElement('div');\n",
              "      const label = document.createElement('label');\n",
              "      label.textContent = `Downloading \"${filename}\": `;\n",
              "      div.appendChild(label);\n",
              "      const progress = document.createElement('progress');\n",
              "      progress.max = size;\n",
              "      div.appendChild(progress);\n",
              "      document.body.appendChild(div);\n",
              "\n",
              "      const buffers = [];\n",
              "      let downloaded = 0;\n",
              "\n",
              "      const channel = await google.colab.kernel.comms.open(id);\n",
              "      // Send a message to notify the kernel that we're ready.\n",
              "      channel.send({})\n",
              "\n",
              "      for await (const message of channel.messages) {\n",
              "        // Send a message to notify the kernel that we're ready.\n",
              "        channel.send({})\n",
              "        if (message.buffers) {\n",
              "          for (const buffer of message.buffers) {\n",
              "            buffers.push(buffer);\n",
              "            downloaded += buffer.byteLength;\n",
              "            progress.value = downloaded;\n",
              "          }\n",
              "        }\n",
              "      }\n",
              "      const blob = new Blob(buffers, {type: 'application/binary'});\n",
              "      const a = document.createElement('a');\n",
              "      a.href = window.URL.createObjectURL(blob);\n",
              "      a.download = filename;\n",
              "      div.appendChild(a);\n",
              "      a.click();\n",
              "      div.remove();\n",
              "    }\n",
              "  "
            ]
          },
          "metadata": {}
        },
        {
          "output_type": "display_data",
          "data": {
            "text/plain": [
              "<IPython.core.display.Javascript object>"
            ],
            "application/javascript": [
              "download(\"download_a590e4e3-9f65-4b5a-a130-a05a9a47e758\", \"distribution_binnig_rules.pdf\", 19538)"
            ]
          },
          "metadata": {}
        },
        {
          "output_type": "display_data",
          "data": {
            "text/plain": [
              "<IPython.core.display.Javascript object>"
            ],
            "application/javascript": [
              "\n",
              "    async function download(id, filename, size) {\n",
              "      if (!google.colab.kernel.accessAllowed) {\n",
              "        return;\n",
              "      }\n",
              "      const div = document.createElement('div');\n",
              "      const label = document.createElement('label');\n",
              "      label.textContent = `Downloading \"${filename}\": `;\n",
              "      div.appendChild(label);\n",
              "      const progress = document.createElement('progress');\n",
              "      progress.max = size;\n",
              "      div.appendChild(progress);\n",
              "      document.body.appendChild(div);\n",
              "\n",
              "      const buffers = [];\n",
              "      let downloaded = 0;\n",
              "\n",
              "      const channel = await google.colab.kernel.comms.open(id);\n",
              "      // Send a message to notify the kernel that we're ready.\n",
              "      channel.send({})\n",
              "\n",
              "      for await (const message of channel.messages) {\n",
              "        // Send a message to notify the kernel that we're ready.\n",
              "        channel.send({})\n",
              "        if (message.buffers) {\n",
              "          for (const buffer of message.buffers) {\n",
              "            buffers.push(buffer);\n",
              "            downloaded += buffer.byteLength;\n",
              "            progress.value = downloaded;\n",
              "          }\n",
              "        }\n",
              "      }\n",
              "      const blob = new Blob(buffers, {type: 'application/binary'});\n",
              "      const a = document.createElement('a');\n",
              "      a.href = window.URL.createObjectURL(blob);\n",
              "      a.download = filename;\n",
              "      div.appendChild(a);\n",
              "      a.click();\n",
              "      div.remove();\n",
              "    }\n",
              "  "
            ]
          },
          "metadata": {}
        },
        {
          "output_type": "display_data",
          "data": {
            "text/plain": [
              "<IPython.core.display.Javascript object>"
            ],
            "application/javascript": [
              "download(\"download_5f99aa4d-0efc-4399-b5f2-16f0f5e3baf7\", \"distribution_binnig_rules.png\", 73337)"
            ]
          },
          "metadata": {}
        },
        {
          "output_type": "display_data",
          "data": {
            "text/plain": [
              "<IPython.core.display.Javascript object>"
            ],
            "application/javascript": [
              "\n",
              "    async function download(id, filename, size) {\n",
              "      if (!google.colab.kernel.accessAllowed) {\n",
              "        return;\n",
              "      }\n",
              "      const div = document.createElement('div');\n",
              "      const label = document.createElement('label');\n",
              "      label.textContent = `Downloading \"${filename}\": `;\n",
              "      div.appendChild(label);\n",
              "      const progress = document.createElement('progress');\n",
              "      progress.max = size;\n",
              "      div.appendChild(progress);\n",
              "      document.body.appendChild(div);\n",
              "\n",
              "      const buffers = [];\n",
              "      let downloaded = 0;\n",
              "\n",
              "      const channel = await google.colab.kernel.comms.open(id);\n",
              "      // Send a message to notify the kernel that we're ready.\n",
              "      channel.send({})\n",
              "\n",
              "      for await (const message of channel.messages) {\n",
              "        // Send a message to notify the kernel that we're ready.\n",
              "        channel.send({})\n",
              "        if (message.buffers) {\n",
              "          for (const buffer of message.buffers) {\n",
              "            buffers.push(buffer);\n",
              "            downloaded += buffer.byteLength;\n",
              "            progress.value = downloaded;\n",
              "          }\n",
              "        }\n",
              "      }\n",
              "      const blob = new Blob(buffers, {type: 'application/binary'});\n",
              "      const a = document.createElement('a');\n",
              "      a.href = window.URL.createObjectURL(blob);\n",
              "      a.download = filename;\n",
              "      div.appendChild(a);\n",
              "      a.click();\n",
              "      div.remove();\n",
              "    }\n",
              "  "
            ]
          },
          "metadata": {}
        },
        {
          "output_type": "display_data",
          "data": {
            "text/plain": [
              "<IPython.core.display.Javascript object>"
            ],
            "application/javascript": [
              "download(\"download_375b8464-a744-4edc-be53-a0c59e814c36\", \"statistical_summary.csv\", 266)"
            ]
          },
          "metadata": {}
        },
        {
          "output_type": "display_data",
          "data": {
            "text/plain": [
              "<IPython.core.display.Javascript object>"
            ],
            "application/javascript": [
              "\n",
              "    async function download(id, filename, size) {\n",
              "      if (!google.colab.kernel.accessAllowed) {\n",
              "        return;\n",
              "      }\n",
              "      const div = document.createElement('div');\n",
              "      const label = document.createElement('label');\n",
              "      label.textContent = `Downloading \"${filename}\": `;\n",
              "      div.appendChild(label);\n",
              "      const progress = document.createElement('progress');\n",
              "      progress.max = size;\n",
              "      div.appendChild(progress);\n",
              "      document.body.appendChild(div);\n",
              "\n",
              "      const buffers = [];\n",
              "      let downloaded = 0;\n",
              "\n",
              "      const channel = await google.colab.kernel.comms.open(id);\n",
              "      // Send a message to notify the kernel that we're ready.\n",
              "      channel.send({})\n",
              "\n",
              "      for await (const message of channel.messages) {\n",
              "        // Send a message to notify the kernel that we're ready.\n",
              "        channel.send({})\n",
              "        if (message.buffers) {\n",
              "          for (const buffer of message.buffers) {\n",
              "            buffers.push(buffer);\n",
              "            downloaded += buffer.byteLength;\n",
              "            progress.value = downloaded;\n",
              "          }\n",
              "        }\n",
              "      }\n",
              "      const blob = new Blob(buffers, {type: 'application/binary'});\n",
              "      const a = document.createElement('a');\n",
              "      a.href = window.URL.createObjectURL(blob);\n",
              "      a.download = filename;\n",
              "      div.appendChild(a);\n",
              "      a.click();\n",
              "      div.remove();\n",
              "    }\n",
              "  "
            ]
          },
          "metadata": {}
        },
        {
          "output_type": "display_data",
          "data": {
            "text/plain": [
              "<IPython.core.display.Javascript object>"
            ],
            "application/javascript": [
              "download(\"download_2f73616f-72a6-4822-b41a-75275a563e1b\", \"distribution_binnig_manual.pdf\", 14621)"
            ]
          },
          "metadata": {}
        },
        {
          "output_type": "display_data",
          "data": {
            "text/plain": [
              "<IPython.core.display.Javascript object>"
            ],
            "application/javascript": [
              "\n",
              "    async function download(id, filename, size) {\n",
              "      if (!google.colab.kernel.accessAllowed) {\n",
              "        return;\n",
              "      }\n",
              "      const div = document.createElement('div');\n",
              "      const label = document.createElement('label');\n",
              "      label.textContent = `Downloading \"${filename}\": `;\n",
              "      div.appendChild(label);\n",
              "      const progress = document.createElement('progress');\n",
              "      progress.max = size;\n",
              "      div.appendChild(progress);\n",
              "      document.body.appendChild(div);\n",
              "\n",
              "      const buffers = [];\n",
              "      let downloaded = 0;\n",
              "\n",
              "      const channel = await google.colab.kernel.comms.open(id);\n",
              "      // Send a message to notify the kernel that we're ready.\n",
              "      channel.send({})\n",
              "\n",
              "      for await (const message of channel.messages) {\n",
              "        // Send a message to notify the kernel that we're ready.\n",
              "        channel.send({})\n",
              "        if (message.buffers) {\n",
              "          for (const buffer of message.buffers) {\n",
              "            buffers.push(buffer);\n",
              "            downloaded += buffer.byteLength;\n",
              "            progress.value = downloaded;\n",
              "          }\n",
              "        }\n",
              "      }\n",
              "      const blob = new Blob(buffers, {type: 'application/binary'});\n",
              "      const a = document.createElement('a');\n",
              "      a.href = window.URL.createObjectURL(blob);\n",
              "      a.download = filename;\n",
              "      div.appendChild(a);\n",
              "      a.click();\n",
              "      div.remove();\n",
              "    }\n",
              "  "
            ]
          },
          "metadata": {}
        },
        {
          "output_type": "display_data",
          "data": {
            "text/plain": [
              "<IPython.core.display.Javascript object>"
            ],
            "application/javascript": [
              "download(\"download_00f4ccee-1b70-4f2f-b252-49d76025fd6b\", \"data_sample.csv\", 19566)"
            ]
          },
          "metadata": {}
        },
        {
          "output_type": "display_data",
          "data": {
            "text/plain": [
              "<IPython.core.display.Javascript object>"
            ],
            "application/javascript": [
              "\n",
              "    async function download(id, filename, size) {\n",
              "      if (!google.colab.kernel.accessAllowed) {\n",
              "        return;\n",
              "      }\n",
              "      const div = document.createElement('div');\n",
              "      const label = document.createElement('label');\n",
              "      label.textContent = `Downloading \"${filename}\": `;\n",
              "      div.appendChild(label);\n",
              "      const progress = document.createElement('progress');\n",
              "      progress.max = size;\n",
              "      div.appendChild(progress);\n",
              "      document.body.appendChild(div);\n",
              "\n",
              "      const buffers = [];\n",
              "      let downloaded = 0;\n",
              "\n",
              "      const channel = await google.colab.kernel.comms.open(id);\n",
              "      // Send a message to notify the kernel that we're ready.\n",
              "      channel.send({})\n",
              "\n",
              "      for await (const message of channel.messages) {\n",
              "        // Send a message to notify the kernel that we're ready.\n",
              "        channel.send({})\n",
              "        if (message.buffers) {\n",
              "          for (const buffer of message.buffers) {\n",
              "            buffers.push(buffer);\n",
              "            downloaded += buffer.byteLength;\n",
              "            progress.value = downloaded;\n",
              "          }\n",
              "        }\n",
              "      }\n",
              "      const blob = new Blob(buffers, {type: 'application/binary'});\n",
              "      const a = document.createElement('a');\n",
              "      a.href = window.URL.createObjectURL(blob);\n",
              "      a.download = filename;\n",
              "      div.appendChild(a);\n",
              "      a.click();\n",
              "      div.remove();\n",
              "    }\n",
              "  "
            ]
          },
          "metadata": {}
        },
        {
          "output_type": "display_data",
          "data": {
            "text/plain": [
              "<IPython.core.display.Javascript object>"
            ],
            "application/javascript": [
              "download(\"download_2afdd57e-1de2-44b4-bfa4-b5345f2cae74\", \"bin_statistics.csv\", 140)"
            ]
          },
          "metadata": {}
        },
        {
          "output_type": "display_data",
          "data": {
            "text/plain": [
              "<IPython.core.display.Javascript object>"
            ],
            "application/javascript": [
              "\n",
              "    async function download(id, filename, size) {\n",
              "      if (!google.colab.kernel.accessAllowed) {\n",
              "        return;\n",
              "      }\n",
              "      const div = document.createElement('div');\n",
              "      const label = document.createElement('label');\n",
              "      label.textContent = `Downloading \"${filename}\": `;\n",
              "      div.appendChild(label);\n",
              "      const progress = document.createElement('progress');\n",
              "      progress.max = size;\n",
              "      div.appendChild(progress);\n",
              "      document.body.appendChild(div);\n",
              "\n",
              "      const buffers = [];\n",
              "      let downloaded = 0;\n",
              "\n",
              "      const channel = await google.colab.kernel.comms.open(id);\n",
              "      // Send a message to notify the kernel that we're ready.\n",
              "      channel.send({})\n",
              "\n",
              "      for await (const message of channel.messages) {\n",
              "        // Send a message to notify the kernel that we're ready.\n",
              "        channel.send({})\n",
              "        if (message.buffers) {\n",
              "          for (const buffer of message.buffers) {\n",
              "            buffers.push(buffer);\n",
              "            downloaded += buffer.byteLength;\n",
              "            progress.value = downloaded;\n",
              "          }\n",
              "        }\n",
              "      }\n",
              "      const blob = new Blob(buffers, {type: 'application/binary'});\n",
              "      const a = document.createElement('a');\n",
              "      a.href = window.URL.createObjectURL(blob);\n",
              "      a.download = filename;\n",
              "      div.appendChild(a);\n",
              "      a.click();\n",
              "      div.remove();\n",
              "    }\n",
              "  "
            ]
          },
          "metadata": {}
        },
        {
          "output_type": "display_data",
          "data": {
            "text/plain": [
              "<IPython.core.display.Javascript object>"
            ],
            "application/javascript": [
              "download(\"download_c3183929-3b09-4805-8778-5ad9d51699c5\", \"distribution_binnig_manual.png\", 38371)"
            ]
          },
          "metadata": {}
        }
      ]
    }
  ]
}