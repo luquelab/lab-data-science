{
  "nbformat": 4,
  "nbformat_minor": 0,
  "metadata": {
    "colab": {
      "provenance": [],
      "toc_visible": true,
      "authorship_tag": "ABX9TyOfqaIj1Tj7Cpra5JSR8AX/",
      "include_colab_link": true
    },
    "kernelspec": {
      "name": "python3",
      "display_name": "Python 3"
    },
    "language_info": {
      "name": "python"
    }
  },
  "cells": [
    {
      "cell_type": "markdown",
      "metadata": {
        "id": "view-in-github",
        "colab_type": "text"
      },
      "source": [
        "<a href=\"https://colab.research.google.com/github/luquelab/lab-data-science/blob/data-distribution/notebooks/generate_multimodal_data.ipynb\" target=\"_parent\"><img src=\"https://colab.research.google.com/assets/colab-badge.svg\" alt=\"Open In Colab\"/></a>"
      ]
    },
    {
      "cell_type": "markdown",
      "source": [
        "# Generating a multimodal data sample"
      ],
      "metadata": {
        "id": "rtNJx4wN81fz"
      }
    },
    {
      "cell_type": "markdown",
      "source": [
        "## Description\n",
        "\n",
        "This notebook generates a multimodal data sample. The user can define the properties of the multimodal distribution and the number of data points generated. This data is useful for validation of pipelines inferring the distribution of a data sample. The code outputs the data file and several figures."
      ],
      "metadata": {
        "id": "RmPdtpop861u"
      }
    },
    {
      "cell_type": "markdown",
      "source": [
        "## Import libraries"
      ],
      "metadata": {
        "id": "wLv8Rsqm9-7z"
      }
    },
    {
      "cell_type": "code",
      "execution_count": 1,
      "metadata": {
        "id": "-2DrhruTJXkY"
      },
      "outputs": [],
      "source": [
        "import numpy as np\n",
        "import matplotlib.pyplot as plt"
      ]
    },
    {
      "cell_type": "markdown",
      "source": [
        "## Input parameters\n",
        "The user can define the characteristics of the multimodal data sample in the code cell below. The parameters include:\n",
        "+ `x_range`: Tuple indicating the range of values for the data sample. Example: `x_range =  (12,53)`.\n",
        "+ `n_modes`: Integer defining the number of modes in the distribution. Example: `n_modes = 3`.\n",
        "+ `mode_locations`: List providing the locations of each mode. Example: `mode_locations = [17,25,45]`.\n",
        "+ `mode_std`: List providing the standard deviations for each mode. Example: `mode_std = [3,5,7]`.\n",
        "+ `mode_intensities`: List providing the relative intensities of each mode. Example `mode_intensities = [5,20,1]`.\n",
        "+ `n_data`: Integer defining the amount of points to generate following the distribution. Example `n_data = 1000`.\n"
      ],
      "metadata": {
        "id": "zsFOnYNi-K8i"
      }
    },
    {
      "cell_type": "code",
      "source": [
        "# Set parameters\n",
        "x_range = (12,53)\n",
        "n_modes = 3\n",
        "mode_locations = [17,25,45]\n",
        "mode_std = [3,5,7]\n",
        "mode_intensities = [5,20,1]\n",
        "n_data = 1000"
      ],
      "metadata": {
        "id": "_zwpd9cwAGia"
      },
      "execution_count": 21,
      "outputs": []
    },
    {
      "cell_type": "markdown",
      "source": [
        "# Code\n",
        "Section containing the main body of the code."
      ],
      "metadata": {
        "id": "eitUAc67BJWN"
      }
    },
    {
      "cell_type": "markdown",
      "source": [
        "## Definitions"
      ],
      "metadata": {
        "id": "My7HXle0BQnk"
      }
    },
    {
      "cell_type": "code",
      "source": [
        "# Class Modes\n",
        "### This class defines an object that contains the main parameters defining a multimodal distribution\n",
        "class Modes:\n",
        "    def __init__(self, n_modes, mode_locations, mode_std, mode_intensities):\n",
        "        self.n_modes = n_modes\n",
        "        self.mode_locations = mode_locations\n",
        "        self.mode_std = mode_std\n",
        "        self.mode_intensities = mode_intensities\n"
      ],
      "metadata": {
        "id": "CmkNXxFvBIsh"
      },
      "execution_count": 16,
      "outputs": []
    },
    {
      "cell_type": "code",
      "source": [
        "# Function\n",
        "## This function generates the multimodal distribution.\n",
        "def multimodal_distribution(x_range, modes,n_data):\n",
        "    \"\"\"\n",
        "    Generates a multimodal distribution by combining normal distributions.\n",
        "\n",
        "    Args:\n",
        "        x_range (tuple): Range of x-values for the distribution (min, max).\n",
        "        modes (Modes): Object containing mode information.\n",
        "        n_data (int): Number of data points to generate.\n",
        "\n",
        "    Returns:\n",
        "        numpy.ndarray: The generated distribution.\n",
        "    \"\"\"\n",
        "\n",
        "    # Set range and data points stochastically.\n",
        "    x = np.linspace(x_range[0], x_range[1], n_data)\n",
        "    distribution = np.zeros_like(x, dtype=float)\n",
        "\n",
        "    # Generate normal distributions for each mode\n",
        "    for i in range(modes.n_modes):\n",
        "\n",
        "        mode_location = modes.mode_locations[i]\n",
        "        mode_distribution = modes.mode_intensities[i] * np.exp(-0.5 * ((x - mode_location) / modes.mode_std[i])**2)\n",
        "\n",
        "        # Add to the overall distribution\n",
        "        distribution += mode_distribution\n",
        "\n",
        "    return distribution\n",
        "\n",
        "## Example\n",
        "# modes = Modes(n_modes=3, mode_locations=[17, 25, 45], mode_std=[3, 5, 7], mode_intensities=[5, 20, 1])"
      ],
      "metadata": {
        "id": "WpMVTj04B9nf"
      },
      "execution_count": 27,
      "outputs": []
    },
    {
      "cell_type": "code",
      "source": [
        "# Function\n",
        "## This function prints the attributes of an object without knowing the name\n",
        "## of the attributes in advance.\n",
        "def print_attributes(obj):\n",
        "  \"\"\"Prints all attributes of an object.\n",
        "\n",
        "  Args:\n",
        "    obj: The object whose attributes you want to print.\n",
        "  \"\"\"\n",
        "  for attr in dir(obj):\n",
        "    if not attr.startswith(\"__\"):  # Exclude special attributes\n",
        "      value = getattr(obj, attr)\n",
        "      print(f\"{attr}: {value}\")\n",
        "\n",
        "## Example\n",
        "# my_object = Modes(n_modes=3, mode_locations=[17, 25, 45], mode_std=[3, 5, 7], mode_intensities=[5, 20, 1])\n",
        "# print_attributes(my_object)"
      ],
      "metadata": {
        "id": "xAeGz-7RFYl7"
      },
      "execution_count": 28,
      "outputs": []
    },
    {
      "cell_type": "code",
      "source": [
        "print_attributes(modes)"
      ],
      "metadata": {
        "id": "YthK8SYFGHhC",
        "outputId": "a7110438-6c3f-4da3-cb82-a7b55857d11d",
        "colab": {
          "base_uri": "https://localhost:8080/"
        }
      },
      "execution_count": 29,
      "outputs": [
        {
          "output_type": "stream",
          "name": "stdout",
          "text": [
            "mode_intensities: [5, 20, 1]\n",
            "mode_locations: [17, 25, 45]\n",
            "mode_std: [3, 5, 7]\n",
            "n_modes: 3\n"
          ]
        }
      ]
    },
    {
      "cell_type": "code",
      "source": [
        "# prompt: Extract all the attributes from the object modes\n",
        "\n",
        "# Assuming you have an instance of the Modes class named 'modes_instance'\n",
        "# Example:\n",
        "modes_instance = Modes(n_modes=3, mode_locations=[17, 25, 45], mode_std=[3, 5, 7], mode_intensities=[5, 20, 1])\n",
        "\n",
        "# Accessing attributes:\n",
        "print(\"Number of modes:\", modes_instance.n_modes)\n",
        "print(\"Mode locations:\", modes_instance.mode_locations)\n",
        "print(\"Mode standard deviations:\", modes_instance.mode_std)\n",
        "print(\"Mode intensities:\", modes_instance.mode_intensities)\n"
      ],
      "metadata": {
        "id": "0eclDOAUFJYx"
      },
      "execution_count": null,
      "outputs": []
    },
    {
      "cell_type": "code",
      "source": [
        "print(modes.n_modes)\n",
        "modes.mode_intensities\n",
        "modes.mode_locations\n",
        "modes.mode_std"
      ],
      "metadata": {
        "id": "ebVZq_4vFBid",
        "outputId": "2acbffaa-cbbd-4286-bd1b-f63a22b59f4d",
        "colab": {
          "base_uri": "https://localhost:8080/"
        }
      },
      "execution_count": 22,
      "outputs": [
        {
          "output_type": "execute_result",
          "data": {
            "text/plain": [
              "[3, 5, 7]"
            ]
          },
          "metadata": {},
          "execution_count": 22
        }
      ]
    },
    {
      "cell_type": "markdown",
      "source": [],
      "metadata": {
        "id": "fBKytACAB07h"
      }
    },
    {
      "cell_type": "code",
      "source": [
        "import numpy as np\n",
        "import matplotlib.pyplot as plt\n",
        "\n",
        "def multimodal_distribution(x_range, mode_locations, intensities, std_devs=[1, 1]):\n",
        "    \"\"\"\n",
        "    Generates a multimodal distribution by combining normal distributions.\n",
        "\n",
        "    Args:\n",
        "        x_range (tuple): Range of x-values for the distribution (min, max).\n",
        "        mode_locations (list): Locations of each mode.\n",
        "        intensities (list): Intensities of each mode.\n",
        "        std_devs (list, optional): Standard deviations of each mode. Defaults to [1, 1].\n",
        "\n",
        "    Returns:\n",
        "        numpy.ndarray: The generated distribution.\n",
        "    \"\"\"\n",
        "\n",
        "    x = np.linspace(x_range[0], x_range[1], 1000)\n",
        "    distribution = np.zeros_like(x, dtype=float)\n",
        "\n",
        "    for i in range(len(mode_locations)):\n",
        "        # Generate normal distribution for the current mode\n",
        "        mode_location = mode_locations[i]\n",
        "        mode_distribution = intensities[i] * np.exp(-0.5 * ((x - mode_location) / std_devs[i])**2)\n",
        "\n",
        "        # Add to the overall distribution\n",
        "        distribution += mode_distribution\n",
        "\n",
        "    return distribution\n",
        "\n",
        "def generate_data_points(distribution, x_range, num_points):\n",
        "    \"\"\"\n",
        "    Generates data points based on the given distribution.\n",
        "\n",
        "    Args:\n",
        "        distribution (numpy.ndarray): The probability distribution.\n",
        "        x_range (tuple): Range of x-values for the distribution (min, max).\n",
        "        num_points (int): Number of data points to generate.\n",
        "\n",
        "    Returns:\n",
        "        numpy.ndarray: The generated data points.\n",
        "    \"\"\"\n",
        "\n",
        "    x = np.linspace(x_range[0], x_range[1], 1000)\n",
        "    cdf = np.cumsum(distribution)  # Calculate cumulative distribution function\n",
        "    cdf /= cdf[-1]  # Normalize CDF to range [0, 1]\n",
        "\n",
        "    random_numbers = np.random.rand(num_points)\n",
        "    data_points = np.interp(random_numbers, cdf, x)  # Inverse transform sampling\n",
        "\n",
        "    return data_points\n",
        "\n",
        "# Example usage with custom values:\n",
        "x_range = (0, 10)\n",
        "mode_locations = [2, 5, 8]  # User-defined mode locations\n",
        "intensities = [2, 1, 3]\n",
        "std_devs = [0.5, 1, 0.7]\n",
        "custom_distribution = multimodal_distribution(x_range, mode_locations, intensities, std_devs)\n",
        "\n",
        "# Generate data points\n",
        "num_points = 1000\n",
        "data_points = generate_data_points(custom_distribution, x_range, num_points)\n",
        "\n",
        "# Plotting the distribution and histogram\n",
        "plt.plot(np.linspace(x_range[0], x_range[1], 1000), custom_distribution, label='Distribution')\n",
        "plt.hist(data_points, bins=30, density=True, alpha=0.5, label='Histogram')\n",
        "plt.title('Custom Multimodal Distribution with Histogram')\n",
        "plt.xlabel('x')\n",
        "plt.ylabel('Probability Density')\n",
        "plt.legend()\n",
        "plt.show()\n",
        "\n",
        "# Saving the data points\n",
        "np.savetxt('data_points.txt', data_points)"
      ],
      "metadata": {
        "colab": {
          "base_uri": "https://localhost:8080/",
          "height": 472
        },
        "id": "98sShK0rKF7Y",
        "outputId": "d3320c8d-c0e3-4aab-b835-9cff00e8ff09"
      },
      "execution_count": null,
      "outputs": [
        {
          "output_type": "display_data",
          "data": {
            "text/plain": [
              "<Figure size 640x480 with 1 Axes>"
            ],
            "image/png": "[encoded data removed]"
          },
          "metadata": {}
        }
      ]
    },
    {
      "cell_type": "code",
      "source": [],
      "metadata": {
        "id": "pjmqRyJqKGck"
      },
      "execution_count": null,
      "outputs": []
    }
  ]
}