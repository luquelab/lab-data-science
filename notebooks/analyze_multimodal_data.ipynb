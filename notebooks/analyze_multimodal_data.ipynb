{
  "nbformat": 4,
  "nbformat_minor": 0,
  "metadata": {
    "colab": {
      "provenance": [],
      "authorship_tag": "ABX9TyNJSFobopvTEG6/l0nINxp/",
      "include_colab_link": true
    },
    "kernelspec": {
      "name": "python3",
      "display_name": "Python 3"
    },
    "language_info": {
      "name": "python"
    }
  },
  "cells": [
    {
      "cell_type": "markdown",
      "metadata": {
        "id": "view-in-github",
        "colab_type": "text"
      },
      "source": [
        "<a href=\"https://colab.research.google.com/github/luquelab/lab-data-science/blob/data-distribution/notebooks/analyze_multimodal_data.ipynb\" target=\"_parent\"><img src=\"https://colab.research.google.com/assets/colab-badge.svg\" alt=\"Open In Colab\"/></a>"
      ]
    },
    {
      "cell_type": "markdown",
      "source": [
        "# Analyze multimodal data"
      ],
      "metadata": {
        "id": "GuZSrPzbYyuO"
      }
    },
    {
      "cell_type": "markdown",
      "source": [
        "## Description"
      ],
      "metadata": {
        "id": "D0LfPcKAY0e9"
      }
    },
    {
      "cell_type": "markdown",
      "source": [
        "## Quick-start guide"
      ],
      "metadata": {
        "id": "V06ZbNkDY4ID"
      }
    },
    {
      "cell_type": "markdown",
      "source": [
        "## Import libraries"
      ],
      "metadata": {
        "id": "u5LMX2nMY-Dv"
      }
    },
    {
      "cell_type": "code",
      "source": [
        "import pandas as pd\n",
        "import matplotlib.pyplot as plt\n",
        "import seaborn as sns\n",
        "import numpy as np"
      ],
      "metadata": {
        "id": "2GeKMCC_c18j"
      },
      "execution_count": 108,
      "outputs": []
    },
    {
      "cell_type": "markdown",
      "source": [
        "## Input data and parameters"
      ],
      "metadata": {
        "id": "MQnhXu1xZAjH"
      }
    },
    {
      "cell_type": "code",
      "source": [
        "# Load data as CSV (adjust path as needed)\n",
        "df = pd.read_csv('data_sample.csv')\n",
        "\n",
        "## Rename first column to 'feature'\n",
        "first_col = df.columns[0]\n",
        "df = df.rename(columns={first_col: 'feature'})\n",
        "print(f\"Dataset shape: {df.shape}\")\n"
      ],
      "metadata": {
        "id": "VU7kcwedc_uU",
        "outputId": "ea01f4fd-713d-4e61-8e90-52a76f289fdf",
        "colab": {
          "base_uri": "https://localhost:8080/"
        }
      },
      "execution_count": 22,
      "outputs": [
        {
          "output_type": "stream",
          "name": "stdout",
          "text": [
            "Dataset shape: (1000, 1)\n"
          ]
        }
      ]
    },
    {
      "cell_type": "markdown",
      "source": [
        "# Code"
      ],
      "metadata": {
        "id": "NS3nj8PJZFzD"
      }
    },
    {
      "cell_type": "markdown",
      "source": [
        "## Prototype"
      ],
      "metadata": {
        "id": "PcOCpysOZ9L1"
      }
    },
    {
      "cell_type": "code",
      "source": [
        "# Import libraries\n",
        "\n",
        "# Load data\n",
        "\n",
        "# Summarize the statistics of the data\n",
        "\n",
        "# Visual exploration of data distribution\n",
        "\n",
        "# Input multimode constraints\n",
        "\n",
        "# Obtain modes\n",
        "\n",
        "# Generate plot with distribution and histogram\n",
        "\n",
        "# Save analysis"
      ],
      "metadata": {
        "id": "0v-06oDqZ-W1"
      },
      "execution_count": null,
      "outputs": []
    },
    {
      "cell_type": "markdown",
      "source": [
        "## Definitions"
      ],
      "metadata": {
        "id": "Q4SOh9CLZMm_"
      }
    },
    {
      "cell_type": "markdown",
      "source": [
        "### Functions"
      ],
      "metadata": {
        "id": "CKMQI8hJWZqv"
      }
    },
    {
      "cell_type": "markdown",
      "source": [
        "#### Freedman-Diaconis rule\n",
        "This rule uses the interquartile range (IQR) and is widely regarded as robust for various distributions, including normal ones. The formula for bin width is:\n",
        "\n",
        "`h = 2 x IQR x n^(-1/3)`\n",
        "\n",
        "Where\n",
        "+ `h` is the bandwidth\n",
        "+ `IQR` is the interquartile range of data\n",
        "+ `n` is the number of observations\n",
        "\n",
        "This method adjusts the bin width based on data spread and sample size, making it suitable for normal distributions. For more information see [Statistics How To](https://www.statisticshowto.com/choose-bin-sizes-statistics/)\n"
      ],
      "metadata": {
        "id": "LbyyTnf9WoNf"
      }
    },
    {
      "cell_type": "code",
      "source": [
        "def freedman_diaconis_rule(data):\n",
        "  \"\"\"\n",
        "  Calculates the optimal bin size using the Freedman-Diaconis rule.\n",
        "\n",
        "  Args:\n",
        "    data: A 1D numpy array or pandas Series of numerical data.\n",
        "\n",
        "  Returns:\n",
        "    The optimal bin width.\n",
        "    The optimal number of bins.\n",
        "    The optimal number of bins rounded.\n",
        "  \"\"\"\n",
        "\n",
        "  # Bin width\n",
        "  iqr = np.percentile(data, 75) - np.percentile(data, 25)\n",
        "  n = len(data)\n",
        "  h = 2 * iqr / (n ** (1/3))\n",
        "\n",
        "  # Number of bins\n",
        "  range = data.max() - data.min()\n",
        "  k = range / h\n",
        "  kround = round(k)\n",
        "\n",
        "  return h, k, kround\n",
        "\n",
        "# Example usage (assuming 'feature' column in your DataFrame):\n",
        "#h, k, kround = freedman_diaconis_rule(df['feature'])\n",
        "#print(\"Friedman-Diaconis' rule\")\n",
        "#print(f\"Optimal bin size: {h}\")\n",
        "#print(f\"Optimal number of bins: {k}\")\n",
        "#print(f\"Optimal number of bins (rounded): {kround}\")"
      ],
      "metadata": {
        "id": "TugrYJptWYvp"
      },
      "execution_count": 90,
      "outputs": []
    },
    {
      "cell_type": "markdown",
      "source": [
        "#### Rice rule\n",
        "The Rice Rule provides a simple approximation for determining the number of bins (\n",
        "k):\n",
        "\n",
        "`k = 2 x n^(1/3)`\n",
        "\n",
        "The bin width can then be calculated as:\n",
        "\n",
        "`h = range/k`\n",
        "\n",
        "Where `n` is the number of observations.\n",
        "\n",
        "This method is less sensitive to outliers and works reasonably well for large datasets, but it may oversmooth smaller datasets. For more information see [Statistics How To](https://www.statisticshowto.com/choose-bin-sizes-statistics/)\n"
      ],
      "metadata": {
        "id": "Vke2TwEQXt_X"
      }
    },
    {
      "cell_type": "code",
      "source": [
        "def rice_rule(data):\n",
        "  \"\"\"\n",
        "  Calculates the optimal bin size using the Rice rule.\n",
        "\n",
        "  Args:\n",
        "    data: A 1D numpy array or pandas Series of numerical data.\n",
        "\n",
        "  Returns:\n",
        "    The optimal bin width.\n",
        "    The optimal number of bins.\n",
        "    The optimal number of bins rounded.\n",
        "  \"\"\"\n",
        "  # Optimal number of bins\n",
        "  n = len(data)\n",
        "  k = 2 * (n ** (1/3))\n",
        "\n",
        "  # Bin width\n",
        "  range = data.max() - data.min()\n",
        "  h = range / k\n",
        "\n",
        "  return h, k, round(k)\n",
        "\n",
        "# Example usage (assuming 'feature' column in your DataFrame):\n",
        "#h, k, kround = rice_rule(df['feature'])\n",
        "#print(\"Rice's rule\")\n",
        "#print(f\"Optimal bin size: {h}\")\n",
        "#print(f\"Optimal number of bins: {k}\")\n",
        "#print(f\"Optimal number of bins (rounded): {kround}\")"
      ],
      "metadata": {
        "id": "oI5Gwb2YYe1K"
      },
      "execution_count": 86,
      "outputs": []
    },
    {
      "cell_type": "markdown",
      "source": [],
      "metadata": {
        "id": "AJONb84PbkIy"
      }
    },
    {
      "cell_type": "markdown",
      "source": [
        "#### Sturges’ rule\n",
        "Sturges’ Rule calculates the number of bins based on logarithmic scaling:\n",
        "\n",
        "`k = 1 + log2(n)`\n",
        "\n",
        "Where `k` is the number of bins and `n` is the number of observations. While simple, this rule often oversmooths histograms for large datasets, making it less suitable for precise analysis. For more information see [Statistics How To](https://www.statisticshowto.com/choose-bin-sizes-statistics/)"
      ],
      "metadata": {
        "id": "6MNJcVJZYy7n"
      }
    },
    {
      "cell_type": "code",
      "source": [
        "def sturges_rule(data):\n",
        "  \"\"\"\n",
        "  Calculate the optimal number of bins using Sturge's rule.\n",
        "\n",
        "  Args:\n",
        "    data: A 1D numpy array or pandas Series of numerical data.\n",
        "\n",
        "  Returns:\n",
        "    The optimal number of bins.\n",
        "  \"\"\"\n",
        "\n",
        "  # Number of bins\n",
        "  n = len(data)\n",
        "  k = 1 + np.log2(n)\n",
        "  kround = round(k)\n",
        "\n",
        "  # Bin size\n",
        "  range = data.max() - data.min()\n",
        "  h = range / k\n",
        "  h = round(h)\n",
        "\n",
        "  return h, k, kround\n",
        "\n",
        "# Example usage (assuming 'feature' column in your DataFrame):\n",
        "#h, k, kround = sturges_rule(df['feature'])\n",
        "#print(\"Sturge's rule\")\n",
        "#print(f\"Optimal bin size: {h}\")\n",
        "#print(f\"Optimal number of bins: {k}\")\n",
        "#print(f\"Optimal number of bins (rounded): {kround}\")"
      ],
      "metadata": {
        "id": "UxZLl9rJZdJJ"
      },
      "execution_count": 85,
      "outputs": []
    },
    {
      "cell_type": "markdown",
      "source": [
        "## Descriptive statistics\n",
        "\n",
        "Generate summary statistics and supplement with skewness and kurtosis.\n",
        "\n",
        "For categorical variables, use `.value_counts(normalize=True)`\n",
        "\n",
        "Typical values to interpret [skewness](https://en.wikipedia.org/wiki/Skewness):\n",
        "+ `0`: Zero skewness: Symmetrical distribution\n",
        "+ `>0`: Positive skewness (right-skewed): The tail on the right side is longer or fatter.\n",
        "+ `<0`: Negative skewness (left-skewed): The tail on the left side is longer or fatter.\n",
        "+ `0`: Normal distribution\n",
        "+ `1`: Half-normal distribution\n",
        "+ `2`: Exponential distribution\n",
        "+ `>0`: Lognormal distribution\n",
        "\n",
        "Typical values to interpret the [Kurtosis](https://en.wikipedia.org/wiki/Kurtosis):\n",
        "+ `~3`: Mesokurtic: A normal distribution with moderate tails.\n",
        "+ `>3`: Leptokurtic: A distribution with heavy tails.\n",
        "+ `<3`: Platykurtic: A distribution with light tails."
      ],
      "metadata": {
        "id": "IgqwZq_HZT0L"
      }
    },
    {
      "cell_type": "code",
      "source": [
        "# Summary stats\n",
        "stats_summary = df.describe(include='all').T\n",
        "stats_summary['range'] = df.max() - df.min()\n",
        "stats_summary['IQR'] = df.quantile(0.75) - df.quantile(0.25)\n",
        "stats_summary['skewness'] = df.skew()\n",
        "stats_summary['kurtosis'] = df.kurtosis()\n"
      ],
      "metadata": {
        "id": "MZ5goVYrfgBV"
      },
      "execution_count": 38,
      "outputs": []
    },
    {
      "cell_type": "code",
      "source": [
        "# Export the summary\n",
        "# stats_summary.to_csv('statistical_summary.csv')\n",
        "stats_summary.T.to_csv('statistical_summary.csv')"
      ],
      "metadata": {
        "id": "lv-MTYfigLNW"
      },
      "execution_count": 39,
      "outputs": []
    },
    {
      "cell_type": "markdown",
      "source": [
        "## Qualitative multimodality assessment"
      ],
      "metadata": {
        "id": "90I-1nFSlCqk"
      }
    },
    {
      "cell_type": "markdown",
      "source": [
        "### Standard binnings"
      ],
      "metadata": {
        "id": "ceWnphuzgLoE"
      }
    },
    {
      "cell_type": "code",
      "source": [
        "# Calculate and store bin widths and number of bins for each rule\n",
        "bin_stats = pd.DataFrame(columns=['Rule', 'Bin Width', 'Number of Bins'])\n",
        "\n",
        "h, k, kround = freedman_diaconis_rule(df['feature'])\n",
        "bin_stats = pd.concat([bin_stats, pd.DataFrame([{'Rule': 'Freedman-Diaconis', 'Bin Width': h, 'Number of Bins': kround}])], ignore_index=True)\n",
        "\n",
        "h, k, kround = rice_rule(df['feature'])\n",
        "bin_stats = pd.concat([bin_stats, pd.DataFrame([{'Rule': 'Rice', 'Bin Width': h, 'Number of Bins': kround}])], ignore_index=True)\n",
        "\n",
        "h, k, kround = sturges_rule(df['feature'])\n",
        "bin_stats = pd.concat([bin_stats, pd.DataFrame([{'Rule': 'Sturges', 'Bin Width': h, 'Number of Bins': kround}])], ignore_index=True)\n",
        "\n",
        "# Display bin statistics\n",
        "bin_stats\n"
      ],
      "metadata": {
        "id": "Mh1Kyn1QfTJ-",
        "outputId": "4a15a7ab-fc75-468e-ae9e-68fb9cf4e2ef",
        "colab": {
          "base_uri": "https://localhost:8080/",
          "height": 199
        }
      },
      "execution_count": 101,
      "outputs": [
        {
          "output_type": "stream",
          "name": "stderr",
          "text": [
            "<ipython-input-101-e3d3eb7c0b79>:5: FutureWarning: The behavior of DataFrame concatenation with empty or all-NA entries is deprecated. In a future version, this will no longer exclude empty or all-NA columns when determining the result dtypes. To retain the old behavior, exclude the relevant entries before the concat operation.\n",
            "  bin_stats = pd.concat([bin_stats, pd.DataFrame([{'Rule': 'Freedman-Diaconis', 'Bin Width': h, 'Number of Bins': kround}])], ignore_index=True)\n"
          ]
        },
        {
          "output_type": "execute_result",
          "data": {
            "text/plain": [
              "                Rule  Bin Width Number of Bins\n",
              "0  Freedman-Diaconis   1.805267             23\n",
              "1               Rice   2.042471             20\n",
              "2            Sturges   4.000000             11"
            ],
            "text/html": [
              "\n",
              "  <div id=\"df-b6404983-0434-415b-ad25-3084e753227e\" class=\"colab-df-container\">\n",
              "    <div>\n",
              "<style scoped>\n",
              "    .dataframe tbody tr th:only-of-type {\n",
              "        vertical-align: middle;\n",
              "    }\n",
              "\n",
              "    .dataframe tbody tr th {\n",
              "        vertical-align: top;\n",
              "    }\n",
              "\n",
              "    .dataframe thead th {\n",
              "        text-align: right;\n",
              "    }\n",
              "</style>\n",
              "<table border=\"1\" class=\"dataframe\">\n",
              "  <thead>\n",
              "    <tr style=\"text-align: right;\">\n",
              "      <th></th>\n",
              "      <th>Rule</th>\n",
              "      <th>Bin Width</th>\n",
              "      <th>Number of Bins</th>\n",
              "    </tr>\n",
              "  </thead>\n",
              "  <tbody>\n",
              "    <tr>\n",
              "      <th>0</th>\n",
              "      <td>Freedman-Diaconis</td>\n",
              "      <td>1.805267</td>\n",
              "      <td>23</td>\n",
              "    </tr>\n",
              "    <tr>\n",
              "      <th>1</th>\n",
              "      <td>Rice</td>\n",
              "      <td>2.042471</td>\n",
              "      <td>20</td>\n",
              "    </tr>\n",
              "    <tr>\n",
              "      <th>2</th>\n",
              "      <td>Sturges</td>\n",
              "      <td>4.000000</td>\n",
              "      <td>11</td>\n",
              "    </tr>\n",
              "  </tbody>\n",
              "</table>\n",
              "</div>\n",
              "    <div class=\"colab-df-buttons\">\n",
              "\n",
              "  <div class=\"colab-df-container\">\n",
              "    <button class=\"colab-df-convert\" onclick=\"convertToInteractive('df-b6404983-0434-415b-ad25-3084e753227e')\"\n",
              "            title=\"Convert this dataframe to an interactive table.\"\n",
              "            style=\"display:none;\">\n",
              "\n",
              "  <svg xmlns=\"http://www.w3.org/2000/svg\" height=\"24px\" viewBox=\"0 -960 960 960\">\n",
              "    <path d=\"M120-120v-720h720v720H120Zm60-500h600v-160H180v160Zm220 220h160v-160H400v160Zm0 220h160v-160H400v160ZM180-400h160v-160H180v160Zm440 0h160v-160H620v160ZM180-180h160v-160H180v160Zm440 0h160v-160H620v160Z\"/>\n",
              "  </svg>\n",
              "    </button>\n",
              "\n",
              "  <style>\n",
              "    .colab-df-container {\n",
              "      display:flex;\n",
              "      gap: 12px;\n",
              "    }\n",
              "\n",
              "    .colab-df-convert {\n",
              "      background-color: #E8F0FE;\n",
              "      border: none;\n",
              "      border-radius: 50%;\n",
              "      cursor: pointer;\n",
              "      display: none;\n",
              "      fill: #1967D2;\n",
              "      height: 32px;\n",
              "      padding: 0 0 0 0;\n",
              "      width: 32px;\n",
              "    }\n",
              "\n",
              "    .colab-df-convert:hover {\n",
              "      background-color: #E2EBFA;\n",
              "      box-shadow: 0px 1px 2px rgba(60, 64, 67, 0.3), 0px 1px 3px 1px rgba(60, 64, 67, 0.15);\n",
              "      fill: #174EA6;\n",
              "    }\n",
              "\n",
              "    .colab-df-buttons div {\n",
              "      margin-bottom: 4px;\n",
              "    }\n",
              "\n",
              "    [theme=dark] .colab-df-convert {\n",
              "      background-color: #3B4455;\n",
              "      fill: #D2E3FC;\n",
              "    }\n",
              "\n",
              "    [theme=dark] .colab-df-convert:hover {\n",
              "      background-color: #434B5C;\n",
              "      box-shadow: 0px 1px 3px 1px rgba(0, 0, 0, 0.15);\n",
              "      filter: drop-shadow(0px 1px 2px rgba(0, 0, 0, 0.3));\n",
              "      fill: #FFFFFF;\n",
              "    }\n",
              "  </style>\n",
              "\n",
              "    <script>\n",
              "      const buttonEl =\n",
              "        document.querySelector('#df-b6404983-0434-415b-ad25-3084e753227e button.colab-df-convert');\n",
              "      buttonEl.style.display =\n",
              "        google.colab.kernel.accessAllowed ? 'block' : 'none';\n",
              "\n",
              "      async function convertToInteractive(key) {\n",
              "        const element = document.querySelector('#df-b6404983-0434-415b-ad25-3084e753227e');\n",
              "        const dataTable =\n",
              "          await google.colab.kernel.invokeFunction('convertToInteractive',\n",
              "                                                    [key], {});\n",
              "        if (!dataTable) return;\n",
              "\n",
              "        const docLinkHtml = 'Like what you see? Visit the ' +\n",
              "          '<a target=\"_blank\" href=https://colab.research.google.com/notebooks/data_table.ipynb>data table notebook</a>'\n",
              "          + ' to learn more about interactive tables.';\n",
              "        element.innerHTML = '';\n",
              "        dataTable['output_type'] = 'display_data';\n",
              "        await google.colab.output.renderOutput(dataTable, element);\n",
              "        const docLink = document.createElement('div');\n",
              "        docLink.innerHTML = docLinkHtml;\n",
              "        element.appendChild(docLink);\n",
              "      }\n",
              "    </script>\n",
              "  </div>\n",
              "\n",
              "\n",
              "<div id=\"df-368dd7bf-bee6-4094-a463-4272353c2fcd\">\n",
              "  <button class=\"colab-df-quickchart\" onclick=\"quickchart('df-368dd7bf-bee6-4094-a463-4272353c2fcd')\"\n",
              "            title=\"Suggest charts\"\n",
              "            style=\"display:none;\">\n",
              "\n",
              "<svg xmlns=\"http://www.w3.org/2000/svg\" height=\"24px\"viewBox=\"0 0 24 24\"\n",
              "     width=\"24px\">\n",
              "    <g>\n",
              "        <path d=\"M19 3H5c-1.1 0-2 .9-2 2v14c0 1.1.9 2 2 2h14c1.1 0 2-.9 2-2V5c0-1.1-.9-2-2-2zM9 17H7v-7h2v7zm4 0h-2V7h2v10zm4 0h-2v-4h2v4z\"/>\n",
              "    </g>\n",
              "</svg>\n",
              "  </button>\n",
              "\n",
              "<style>\n",
              "  .colab-df-quickchart {\n",
              "      --bg-color: #E8F0FE;\n",
              "      --fill-color: #1967D2;\n",
              "      --hover-bg-color: #E2EBFA;\n",
              "      --hover-fill-color: #174EA6;\n",
              "      --disabled-fill-color: #AAA;\n",
              "      --disabled-bg-color: #DDD;\n",
              "  }\n",
              "\n",
              "  [theme=dark] .colab-df-quickchart {\n",
              "      --bg-color: #3B4455;\n",
              "      --fill-color: #D2E3FC;\n",
              "      --hover-bg-color: #434B5C;\n",
              "      --hover-fill-color: #FFFFFF;\n",
              "      --disabled-bg-color: #3B4455;\n",
              "      --disabled-fill-color: #666;\n",
              "  }\n",
              "\n",
              "  .colab-df-quickchart {\n",
              "    background-color: var(--bg-color);\n",
              "    border: none;\n",
              "    border-radius: 50%;\n",
              "    cursor: pointer;\n",
              "    display: none;\n",
              "    fill: var(--fill-color);\n",
              "    height: 32px;\n",
              "    padding: 0;\n",
              "    width: 32px;\n",
              "  }\n",
              "\n",
              "  .colab-df-quickchart:hover {\n",
              "    background-color: var(--hover-bg-color);\n",
              "    box-shadow: 0 1px 2px rgba(60, 64, 67, 0.3), 0 1px 3px 1px rgba(60, 64, 67, 0.15);\n",
              "    fill: var(--button-hover-fill-color);\n",
              "  }\n",
              "\n",
              "  .colab-df-quickchart-complete:disabled,\n",
              "  .colab-df-quickchart-complete:disabled:hover {\n",
              "    background-color: var(--disabled-bg-color);\n",
              "    fill: var(--disabled-fill-color);\n",
              "    box-shadow: none;\n",
              "  }\n",
              "\n",
              "  .colab-df-spinner {\n",
              "    border: 2px solid var(--fill-color);\n",
              "    border-color: transparent;\n",
              "    border-bottom-color: var(--fill-color);\n",
              "    animation:\n",
              "      spin 1s steps(1) infinite;\n",
              "  }\n",
              "\n",
              "  @keyframes spin {\n",
              "    0% {\n",
              "      border-color: transparent;\n",
              "      border-bottom-color: var(--fill-color);\n",
              "      border-left-color: var(--fill-color);\n",
              "    }\n",
              "    20% {\n",
              "      border-color: transparent;\n",
              "      border-left-color: var(--fill-color);\n",
              "      border-top-color: var(--fill-color);\n",
              "    }\n",
              "    30% {\n",
              "      border-color: transparent;\n",
              "      border-left-color: var(--fill-color);\n",
              "      border-top-color: var(--fill-color);\n",
              "      border-right-color: var(--fill-color);\n",
              "    }\n",
              "    40% {\n",
              "      border-color: transparent;\n",
              "      border-right-color: var(--fill-color);\n",
              "      border-top-color: var(--fill-color);\n",
              "    }\n",
              "    60% {\n",
              "      border-color: transparent;\n",
              "      border-right-color: var(--fill-color);\n",
              "    }\n",
              "    80% {\n",
              "      border-color: transparent;\n",
              "      border-right-color: var(--fill-color);\n",
              "      border-bottom-color: var(--fill-color);\n",
              "    }\n",
              "    90% {\n",
              "      border-color: transparent;\n",
              "      border-bottom-color: var(--fill-color);\n",
              "    }\n",
              "  }\n",
              "</style>\n",
              "\n",
              "  <script>\n",
              "    async function quickchart(key) {\n",
              "      const quickchartButtonEl =\n",
              "        document.querySelector('#' + key + ' button');\n",
              "      quickchartButtonEl.disabled = true;  // To prevent multiple clicks.\n",
              "      quickchartButtonEl.classList.add('colab-df-spinner');\n",
              "      try {\n",
              "        const charts = await google.colab.kernel.invokeFunction(\n",
              "            'suggestCharts', [key], {});\n",
              "      } catch (error) {\n",
              "        console.error('Error during call to suggestCharts:', error);\n",
              "      }\n",
              "      quickchartButtonEl.classList.remove('colab-df-spinner');\n",
              "      quickchartButtonEl.classList.add('colab-df-quickchart-complete');\n",
              "    }\n",
              "    (() => {\n",
              "      let quickchartButtonEl =\n",
              "        document.querySelector('#df-368dd7bf-bee6-4094-a463-4272353c2fcd button');\n",
              "      quickchartButtonEl.style.display =\n",
              "        google.colab.kernel.accessAllowed ? 'block' : 'none';\n",
              "    })();\n",
              "  </script>\n",
              "</div>\n",
              "\n",
              "  <div id=\"id_fbc8dc75-9c44-4384-b500-7135c6168782\">\n",
              "    <style>\n",
              "      .colab-df-generate {\n",
              "        background-color: #E8F0FE;\n",
              "        border: none;\n",
              "        border-radius: 50%;\n",
              "        cursor: pointer;\n",
              "        display: none;\n",
              "        fill: #1967D2;\n",
              "        height: 32px;\n",
              "        padding: 0 0 0 0;\n",
              "        width: 32px;\n",
              "      }\n",
              "\n",
              "      .colab-df-generate:hover {\n",
              "        background-color: #E2EBFA;\n",
              "        box-shadow: 0px 1px 2px rgba(60, 64, 67, 0.3), 0px 1px 3px 1px rgba(60, 64, 67, 0.15);\n",
              "        fill: #174EA6;\n",
              "      }\n",
              "\n",
              "      [theme=dark] .colab-df-generate {\n",
              "        background-color: #3B4455;\n",
              "        fill: #D2E3FC;\n",
              "      }\n",
              "\n",
              "      [theme=dark] .colab-df-generate:hover {\n",
              "        background-color: #434B5C;\n",
              "        box-shadow: 0px 1px 3px 1px rgba(0, 0, 0, 0.15);\n",
              "        filter: drop-shadow(0px 1px 2px rgba(0, 0, 0, 0.3));\n",
              "        fill: #FFFFFF;\n",
              "      }\n",
              "    </style>\n",
              "    <button class=\"colab-df-generate\" onclick=\"generateWithVariable('bin_stats')\"\n",
              "            title=\"Generate code using this dataframe.\"\n",
              "            style=\"display:none;\">\n",
              "\n",
              "  <svg xmlns=\"http://www.w3.org/2000/svg\" height=\"24px\"viewBox=\"0 0 24 24\"\n",
              "       width=\"24px\">\n",
              "    <path d=\"M7,19H8.4L18.45,9,17,7.55,7,17.6ZM5,21V16.75L18.45,3.32a2,2,0,0,1,2.83,0l1.4,1.43a1.91,1.91,0,0,1,.58,1.4,1.91,1.91,0,0,1-.58,1.4L9.25,21ZM18.45,9,17,7.55Zm-12,3A5.31,5.31,0,0,0,4.9,8.1,5.31,5.31,0,0,0,1,6.5,5.31,5.31,0,0,0,4.9,4.9,5.31,5.31,0,0,0,6.5,1,5.31,5.31,0,0,0,8.1,4.9,5.31,5.31,0,0,0,12,6.5,5.46,5.46,0,0,0,6.5,12Z\"/>\n",
              "  </svg>\n",
              "    </button>\n",
              "    <script>\n",
              "      (() => {\n",
              "      const buttonEl =\n",
              "        document.querySelector('#id_fbc8dc75-9c44-4384-b500-7135c6168782 button.colab-df-generate');\n",
              "      buttonEl.style.display =\n",
              "        google.colab.kernel.accessAllowed ? 'block' : 'none';\n",
              "\n",
              "      buttonEl.onclick = () => {\n",
              "        google.colab.notebook.generateWithVariable('bin_stats');\n",
              "      }\n",
              "      })();\n",
              "    </script>\n",
              "  </div>\n",
              "\n",
              "    </div>\n",
              "  </div>\n"
            ],
            "application/vnd.google.colaboratory.intrinsic+json": {
              "type": "dataframe",
              "variable_name": "bin_stats",
              "summary": "{\n  \"name\": \"bin_stats\",\n  \"rows\": 3,\n  \"fields\": [\n    {\n      \"column\": \"Rule\",\n      \"properties\": {\n        \"dtype\": \"string\",\n        \"num_unique_values\": 3,\n        \"samples\": [\n          \"Freedman-Diaconis\",\n          \"Rice\",\n          \"Sturges\"\n        ],\n        \"semantic_type\": \"\",\n        \"description\": \"\"\n      }\n    },\n    {\n      \"column\": \"Bin Width\",\n      \"properties\": {\n        \"dtype\": \"number\",\n        \"std\": 1.2045079045530915,\n        \"min\": 1.8052674867461296,\n        \"max\": 4.0,\n        \"num_unique_values\": 3,\n        \"samples\": [\n          1.8052674867461296,\n          2.0424711001233122,\n          4.0\n        ],\n        \"semantic_type\": \"\",\n        \"description\": \"\"\n      }\n    },\n    {\n      \"column\": \"Number of Bins\",\n      \"properties\": {\n        \"dtype\": \"date\",\n        \"min\": 11,\n        \"max\": 23,\n        \"num_unique_values\": 3,\n        \"samples\": [\n          23,\n          20,\n          11\n        ],\n        \"semantic_type\": \"\",\n        \"description\": \"\"\n      }\n    }\n  ]\n}"
            }
          },
          "metadata": {},
          "execution_count": 101
        }
      ]
    },
    {
      "cell_type": "code",
      "source": [
        "# Save bin statistics\n",
        "bin_stats.to_csv('bin_statistics.csv', index=False)"
      ],
      "metadata": {
        "id": "KfOU-DfTgZWM"
      },
      "execution_count": 102,
      "outputs": []
    },
    {
      "cell_type": "markdown",
      "source": [
        "#### Plots"
      ],
      "metadata": {
        "id": "wDjt69lEiWiB"
      }
    },
    {
      "cell_type": "code",
      "source": [
        "fig, axes = plt.subplots(nrows=3, ncols=1, figsize=(5, 10))\n",
        "\n",
        "# Freedman-Diaconis\n",
        "rule = 'Freedman-Diaconis'\n",
        "rule_stats = bin_stats[bin_stats['Rule'] == rule]\n",
        "h = rule_stats['Bin Width'].iloc[0]\n",
        "kround = rule_stats['Number of Bins'].iloc[0]\n",
        "sns.histplot(df['feature'], kde=True, bins=kround, ax=axes[0])\n",
        "axes[0].set_title(f'Freedman-Diaconis Rule\\nBinwidth: {h:.2f}, Number of bins: {kround}')\n",
        "\n",
        "# Rice Rule\n",
        "rule = 'Rice'\n",
        "rule_stats = bin_stats[bin_stats['Rule'] == rule]\n",
        "h = rule_stats['Bin Width'].iloc[0]\n",
        "kround = rule_stats['Number of Bins'].iloc[0]\n",
        "sns.histplot(df['feature'], kde=True, bins=kround, ax=axes[1])\n",
        "axes[1].set_title(f'Rice Rule\\nBinwidth: {h:.2f}, Number of bins: {kround}')\n",
        "\n",
        "# Sturges' Rule\n",
        "rule = 'Sturges'\n",
        "rule_stats = bin_stats[bin_stats['Rule'] == rule]\n",
        "h = rule_stats['Bin Width'].iloc[0]\n",
        "kround = rule_stats['Number of Bins'].iloc[0]\n",
        "sns.histplot(df['feature'], kde=True, bins=kround, ax=axes[2])\n",
        "axes[2].set_title(f\"Sturges' Rule\\nBinwidth: {h:.2f}, Number of bins: {kround}\")\n",
        "\n",
        "plt.tight_layout()\n",
        "\n",
        "plt.savefig('distribution_binnig_rules.png')\n",
        "plt.savefig('distribution_binnig_rules.pdf')\n",
        "\n",
        "plt.show()\n"
      ],
      "metadata": {
        "id": "kOpC-1Khecrf",
        "outputId": "f3edfde3-1527-4502-8837-f9ae15dd75a7",
        "colab": {
          "base_uri": "https://localhost:8080/",
          "height": 1000
        }
      },
      "execution_count": 107,
      "outputs": [
        {
          "output_type": "display_data",
          "data": {
            "text/plain": [
              "<Figure size 500x1000 with 3 Axes>"
            ],
            "image/png": "[encoded data removed]"
          },
          "metadata": {}
        }
      ]
    },
    {
      "cell_type": "markdown",
      "source": [
        "### Manual binning\n",
        "Input number of bins for manual exploration. The code cell will generate the plot."
      ],
      "metadata": {
        "id": "QCiFX1opilAQ"
      }
    },
    {
      "cell_type": "code",
      "source": [
        "# Number of bins\n",
        "bins = 30\n",
        "\n",
        "# Plot\n",
        "plt.figure(figsize=(10, 6))\n",
        "sns.histplot(df['feature'], bins=bins, kde=True, stat='density')\n",
        "plt.title('Histogram with KDE')\n",
        "plt.xlabel('Feature Values')\n",
        "plt.ylabel('Density')\n",
        "\n",
        "\n",
        "plt.savefig('distribution_binnig_manual.png')\n",
        "plt.savefig('distribution_binnig_manual.pdf')\n",
        "\n",
        "plt.show()\n"
      ],
      "metadata": {
        "id": "DHdByIi0irwB",
        "outputId": "ada66054-2aa3-4670-e634-c7328c0c0663",
        "colab": {
          "base_uri": "https://localhost:8080/",
          "height": 419
        }
      },
      "execution_count": 111,
      "outputs": [
        {
          "output_type": "display_data",
          "data": {
            "text/plain": [
              "<Figure size 1000x600 with 1 Axes>"
            ],
            "image/png": "[encoded data removed]"
          },
          "metadata": {}
        }
      ]
    },
    {
      "cell_type": "markdown",
      "source": [
        "## Identify modes"
      ],
      "metadata": {
        "id": "laUqk8G0ZaxN"
      }
    },
    {
      "cell_type": "markdown",
      "source": [
        "# Outputs"
      ],
      "metadata": {
        "id": "kLGDo6uxZHdT"
      }
    },
    {
      "cell_type": "markdown",
      "source": [
        "## Download files"
      ],
      "metadata": {
        "id": "lNpgsk5tZjju"
      }
    }
  ]
}