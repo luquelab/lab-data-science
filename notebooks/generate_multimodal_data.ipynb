{
  "nbformat": 4,
  "nbformat_minor": 0,
  "metadata": {
    "colab": {
      "provenance": [],
      "toc_visible": true,
      "authorship_tag": "ABX9TyNxF1QuFnuWCsEuoIZlyEnw",
      "include_colab_link": true
    },
    "kernelspec": {
      "name": "python3",
      "display_name": "Python 3"
    },
    "language_info": {
      "name": "python"
    }
  },
  "cells": [
    {
      "cell_type": "markdown",
      "metadata": {
        "id": "view-in-github",
        "colab_type": "text"
      },
      "source": [
        "<a href=\"https://colab.research.google.com/github/luquelab/lab-data-science/blob/data-distribution/notebooks/generate_multimodal_data.ipynb\" target=\"_parent\"><img src=\"https://colab.research.google.com/assets/colab-badge.svg\" alt=\"Open In Colab\"/></a>"
      ]
    },
    {
      "cell_type": "markdown",
      "source": [
        "# Generating a multimodal data sample"
      ],
      "metadata": {
        "id": "rtNJx4wN81fz"
      }
    },
    {
      "cell_type": "markdown",
      "source": [
        "## Description\n",
        "\n",
        "This notebook generates a multimodal data sample. The user can define the properties of the multimodal distribution and the number of data points generated. This data is useful for validation of pipelines inferring the distribution of a data sample. The code outputs the data file and several figures."
      ],
      "metadata": {
        "id": "RmPdtpop861u"
      }
    },
    {
      "cell_type": "markdown",
      "source": [
        "## Quick-start guide\n",
        "+ Go to the section [Input parameters](#scrollTo=Input_parameters) to define the paramaters for the multimodal distribution and the amount of data to be generated.\n",
        "+ Run the notebook:\n",
        "    + Manually clicking the tab `Runtime` --> `Run all` or cell by cell.\n",
        "    + Using shortcut: `⌘/Ctrl+F9`\n",
        "+ The notebook will attempt to download the saved files automatically. Depending on the browser, the user will be required to allow the download.\n",
        "+ To visualize the generated distribution either open the downloaded files or go to the section [Plots](#scrollTo=Plots)."
      ],
      "metadata": {
        "id": "qNZeRJs9Te4T"
      }
    },
    {
      "cell_type": "markdown",
      "source": [
        "## Import libraries"
      ],
      "metadata": {
        "id": "wLv8Rsqm9-7z"
      }
    },
    {
      "cell_type": "code",
      "execution_count": 1,
      "metadata": {
        "id": "-2DrhruTJXkY"
      },
      "outputs": [],
      "source": [
        "import numpy as np\n",
        "import matplotlib.pyplot as plt\n",
        "import csv\n",
        "from google.colab import files\n",
        "import os"
      ]
    },
    {
      "cell_type": "markdown",
      "source": [
        "## Input parameters\n",
        "The user can define the characteristics of the multimodal data sample in the code cell below. The parameters include:\n",
        "+ `x_range`: Tuple indicating the range of values for the data sample. Example: `x_range =  (12,53)`.\n",
        "+ `n_modes`: Integer defining the number of modes in the distribution. Example: `n_modes = 3`.\n",
        "+ `mode_locations`: List providing the locations of each mode. Example: `mode_locations = [17,25,45]`.\n",
        "+ `mode_std`: List providing the standard deviations for each mode. Example: `mode_std = [3,5,7]`.\n",
        "+ `mode_intensities`: List providing the relative intensities of each mode. Example `mode_intensities = [5,20,1]`.\n",
        "+ `n_data`: Integer defining the amount of points to generate following the distribution. Example `n_data = 1000`.\n"
      ],
      "metadata": {
        "id": "zsFOnYNi-K8i"
      }
    },
    {
      "cell_type": "code",
      "source": [
        "# Set parameters\n",
        "x_range = (12,53)\n",
        "n_modes = 3\n",
        "mode_locations = [16,25,45]\n",
        "mode_std = [3,5,7]\n",
        "mode_intensities = [7,20,2]\n",
        "n_data = 1000"
      ],
      "metadata": {
        "id": "_zwpd9cwAGia"
      },
      "execution_count": 2,
      "outputs": []
    },
    {
      "cell_type": "markdown",
      "source": [
        "# Code\n",
        "Section containing the main body of the code."
      ],
      "metadata": {
        "id": "eitUAc67BJWN"
      }
    },
    {
      "cell_type": "markdown",
      "source": [
        "## Definitions"
      ],
      "metadata": {
        "id": "My7HXle0BQnk"
      }
    },
    {
      "cell_type": "code",
      "source": [
        "# Class Modes\n",
        "### This class defines an object that contains the main parameters defining a multimodal distribution\n",
        "class Modes:\n",
        "    def __init__(self, n_modes, mode_locations, mode_std, mode_intensities):\n",
        "        self.n_modes = n_modes\n",
        "        self.mode_locations = mode_locations\n",
        "        self.mode_std = mode_std\n",
        "        self.mode_intensities = mode_intensities\n"
      ],
      "metadata": {
        "id": "CmkNXxFvBIsh"
      },
      "execution_count": 3,
      "outputs": []
    },
    {
      "cell_type": "code",
      "source": [
        "# Function\n",
        "## This function prints the attributes of an object without knowing the name\n",
        "## of the attributes in advance.\n",
        "def print_attributes(obj):\n",
        "  \"\"\"Prints all attributes of an object.\n",
        "\n",
        "  Args:\n",
        "    obj: The object whose attributes you want to print.\n",
        "  \"\"\"\n",
        "  for attr in dir(obj):\n",
        "    if not attr.startswith(\"__\"):  # Exclude special attributes\n",
        "      value = getattr(obj, attr)\n",
        "      print(f\"{attr}: {value}\")\n",
        "\n",
        "## Example\n",
        "# my_object = Modes(n_modes=3, mode_locations=[17, 25, 45], mode_std=[3, 5, 7], mode_intensities=[5, 20, 1])\n",
        "# print_attributes(my_object)"
      ],
      "metadata": {
        "id": "xAeGz-7RFYl7"
      },
      "execution_count": 4,
      "outputs": []
    },
    {
      "cell_type": "code",
      "source": [
        "# Function\n",
        "## This function generates the multimodal distribution.\n",
        "def multimodal_distribution(x_range, modes,n_data):\n",
        "    \"\"\"\n",
        "    Generates a multimodal distribution by combining normal distributions.\n",
        "\n",
        "    Args:\n",
        "        x_range (tuple): Range of x-values for the distribution (min, max).\n",
        "        modes (Modes): Object containing mode information.\n",
        "        n_data (int): Number of data points to generate.\n",
        "\n",
        "    Returns:\n",
        "        numpy.ndarray: The generated distribution.\n",
        "    \"\"\"\n",
        "\n",
        "    # Set range and data points stochastically.\n",
        "    x = np.linspace(x_range[0], x_range[1], n_data)\n",
        "    distribution = np.zeros_like(x, dtype=float)\n",
        "\n",
        "    # Generate normal distributions for each mode\n",
        "    for i in range(modes.n_modes):\n",
        "\n",
        "        mode_location = modes.mode_locations[i]\n",
        "        mode_distribution = modes.mode_intensities[i] * np.exp(-0.5 * ((x - mode_location) / modes.mode_std[i])**2)\n",
        "\n",
        "        # Add to the overall distribution\n",
        "        distribution += mode_distribution\n",
        "\n",
        "    return distribution\n",
        "\n",
        "## Example\n",
        "# modes = Modes(n_modes=3, mode_locations=[17, 25, 45], mode_std=[3, 5, 7], mode_intensities=[5, 20, 1])"
      ],
      "metadata": {
        "id": "WpMVTj04B9nf"
      },
      "execution_count": 5,
      "outputs": []
    },
    {
      "cell_type": "code",
      "source": [
        "# This function generates the data points for a distribution\n",
        "def generate_data_points(distribution, x_range, num_points):\n",
        "    \"\"\"\n",
        "    Generates data points based on the given distribution.\n",
        "\n",
        "    Args:\n",
        "        distribution (numpy.ndarray): The probability distribution.\n",
        "        x_range (tuple): Range of x-values for the distribution (min, max).\n",
        "        num_points (int): Number of data points to generate.\n",
        "\n",
        "    Returns:\n",
        "        numpy.ndarray: The generated data points.\n",
        "    \"\"\"\n",
        "\n",
        "    x = np.linspace(x_range[0], x_range[1], num_points)\n",
        "    cdf = np.cumsum(distribution)  # Calculate cumulative distribution function\n",
        "    cdf /= cdf[-1]  # Normalize CDF to range [0, 1]\n",
        "\n",
        "    random_numbers = np.random.rand(num_points)\n",
        "    data_points = np.interp(random_numbers, cdf, x)  # Inverse transform sampling\n",
        "\n",
        "    return data_points"
      ],
      "metadata": {
        "id": "FmKshEGzI_sB"
      },
      "execution_count": 6,
      "outputs": []
    },
    {
      "cell_type": "code",
      "source": [
        "# Function\n",
        "## This function generates a list with the names of the generated files.\n",
        "\n",
        "def add_filenames(directory=\".\"):\n",
        "  \"\"\"\n",
        "  Adds the names of all files in the specified directory to a list.\n",
        "\n",
        "  Args:\n",
        "      directory: The directory to search for files. Defaults to the current directory.\n",
        "\n",
        "  Returns:\n",
        "      A list of filenames in the directory. Returns an empty list if the directory is invalid.\n",
        "  \"\"\"\n",
        "\n",
        "  filenames = []\n",
        "  if os.path.isdir(directory):\n",
        "    for filename in os.listdir(directory):\n",
        "      if os.path.isfile(os.path.join(directory, filename)):\n",
        "        filenames.append(filename)\n",
        "  return filenames\n",
        "\n",
        "# Example usage\n",
        "# generated_files = add_filenames()  # Get files from the current directory\n",
        "# generated_files\n",
        "\n",
        "# Example usage to get files from a specific directory\n",
        "# generated_files_specific_dir = add_filenames(\"/content/my_directory\")  # Replace with the actual path\n",
        "# print(generated_files_specific_dir)\n"
      ],
      "metadata": {
        "id": "esy-m01ZRmmC"
      },
      "execution_count": 7,
      "outputs": []
    },
    {
      "cell_type": "markdown",
      "source": [
        "## Distribution"
      ],
      "metadata": {
        "id": "T4UZ5KeRGqvJ"
      }
    },
    {
      "cell_type": "code",
      "source": [
        "# Generte multimodal distribution\n",
        "modes = Modes(n_modes, mode_locations, mode_std, mode_intensities)\n",
        "distribution = multimodal_distribution(x_range, modes,n_data)"
      ],
      "metadata": {
        "id": "nJPD9UzPGxWC"
      },
      "execution_count": 8,
      "outputs": []
    },
    {
      "cell_type": "markdown",
      "source": [
        "## Data sample"
      ],
      "metadata": {
        "id": "2lLU7DDcJg_O"
      }
    },
    {
      "cell_type": "code",
      "source": [
        "# Generate data points\n",
        "num_points = n_data\n",
        "data_points = generate_data_points(distribution, x_range, num_points)\n"
      ],
      "metadata": {
        "id": "Ag-Fk5FVInGY"
      },
      "execution_count": 9,
      "outputs": []
    },
    {
      "cell_type": "code",
      "source": [
        "# Save data in a CSV file\n",
        "with open('data_sample.csv', 'w', newline='') as csvfile:\n",
        "    writer = csv.writer(csvfile)\n",
        "    writer.writerow(['data_point'])  # Write header\n",
        "    for point in data_points:\n",
        "        writer.writerow([point])"
      ],
      "metadata": {
        "id": "SsyzxUTaQgkt"
      },
      "execution_count": 10,
      "outputs": []
    },
    {
      "cell_type": "markdown",
      "source": [
        "# Outputs\n",
        "\n",
        "This section contain the main outputs of the notebook and download the files.\n",
        "\n",
        "Some of the outputs may have been generated throughout the [Code](#scrollTo=Code) section."
      ],
      "metadata": {
        "id": "S4F64phsdz3M"
      }
    },
    {
      "cell_type": "markdown",
      "source": [
        "## Plots"
      ],
      "metadata": {
        "id": "WD0qHu6JHK5s"
      }
    },
    {
      "cell_type": "code",
      "source": [
        "# prompt: Plot the distribution in the y1-axis and the histogram of the data sampled on the y2-axis\n",
        "\n",
        "import matplotlib.pyplot as plt\n",
        "\n",
        "# Assuming 'data_points' and 'distribution' are already defined from the previous code\n",
        "# and 'x' is the x-axis values for the distribution\n",
        "\n",
        "x = np.linspace(x_range[0], x_range[1], n_data) # Define x based on your data\n",
        "\n",
        "fig, ax1 = plt.subplots()\n",
        "\n",
        "# Plot the distribution on the first y-axis (y1)\n",
        "color = 'tab:gray'\n",
        "ax1.plot(x, distribution, color=color, label= 'Distribution')\n",
        "ax1.set_xlabel('Value')\n",
        "ax1.set_ylabel('Distribution', color=color)\n",
        "ax1.tick_params(axis='y', labelcolor=color)\n",
        "#plt.legend()\n",
        "\n",
        "# Create a second y-axis sharing the same x-axis\n",
        "ax2 = ax1.twinx()\n",
        "\n",
        "# Plot the histogram of the data on the second y-axis (y2)\n",
        "color = 'tab:blue'\n",
        "color_edge = 'tab:blue'\n",
        "ax2.hist(data_points, bins=30, color=color, edgecolor = color_edge, alpha=0.5, label='Histogram') # Adjust bins as needed\n",
        "ax2.set_ylabel('Frequency', color=color)\n",
        "ax2.tick_params(axis='y', labelcolor=color)\n",
        "\n",
        "plt.title('Distribution and Histogram of Data Points')\n",
        "#plt.legend()\n",
        "\n",
        "# Save plot in multiple formats\n",
        "plt.savefig('distribution_histogram.pdf')\n",
        "plt.savefig('distribution_histogram.png')\n",
        "\n",
        "# Show plot\n",
        "plt.show()\n",
        "\n"
      ],
      "metadata": {
        "colab": {
          "base_uri": "https://localhost:8080/",
          "height": 472
        },
        "id": "6alzM7EiKHxN",
        "outputId": "0fb1580c-5d78-4934-d436-4644b71a4286"
      },
      "execution_count": 11,
      "outputs": [
        {
          "output_type": "display_data",
          "data": {
            "text/plain": [
              "<Figure size 640x480 with 2 Axes>"
            ],
            "image/png": "[encoded data removed]"
          },
          "metadata": {}
        }
      ]
    },
    {
      "cell_type": "markdown",
      "source": [
        "## Download files\n"
      ],
      "metadata": {
        "id": "nnLZsH6GRIFb"
      }
    },
    {
      "cell_type": "code",
      "source": [
        "# Download the generated files\n",
        "generated_files = add_filenames()\n",
        "for file in generated_files:\n",
        "  files.download(file)"
      ],
      "metadata": {
        "colab": {
          "base_uri": "https://localhost:8080/",
          "height": 17
        },
        "id": "t0UX3CDySVCt",
        "outputId": "b515898a-0cc6-44d0-a66a-c725827a58b0"
      },
      "execution_count": 12,
      "outputs": [
        {
          "output_type": "display_data",
          "data": {
            "text/plain": [
              "<IPython.core.display.Javascript object>"
            ],
            "application/javascript": [
              "\n",
              "    async function download(id, filename, size) {\n",
              "      if (!google.colab.kernel.accessAllowed) {\n",
              "        return;\n",
              "      }\n",
              "      const div = document.createElement('div');\n",
              "      const label = document.createElement('label');\n",
              "      label.textContent = `Downloading \"${filename}\": `;\n",
              "      div.appendChild(label);\n",
              "      const progress = document.createElement('progress');\n",
              "      progress.max = size;\n",
              "      div.appendChild(progress);\n",
              "      document.body.appendChild(div);\n",
              "\n",
              "      const buffers = [];\n",
              "      let downloaded = 0;\n",
              "\n",
              "      const channel = await google.colab.kernel.comms.open(id);\n",
              "      // Send a message to notify the kernel that we're ready.\n",
              "      channel.send({})\n",
              "\n",
              "      for await (const message of channel.messages) {\n",
              "        // Send a message to notify the kernel that we're ready.\n",
              "        channel.send({})\n",
              "        if (message.buffers) {\n",
              "          for (const buffer of message.buffers) {\n",
              "            buffers.push(buffer);\n",
              "            downloaded += buffer.byteLength;\n",
              "            progress.value = downloaded;\n",
              "          }\n",
              "        }\n",
              "      }\n",
              "      const blob = new Blob(buffers, {type: 'application/binary'});\n",
              "      const a = document.createElement('a');\n",
              "      a.href = window.URL.createObjectURL(blob);\n",
              "      a.download = filename;\n",
              "      div.appendChild(a);\n",
              "      a.click();\n",
              "      div.remove();\n",
              "    }\n",
              "  "
            ]
          },
          "metadata": {}
        },
        {
          "output_type": "display_data",
          "data": {
            "text/plain": [
              "<IPython.core.display.Javascript object>"
            ],
            "application/javascript": [
              "download(\"download_0d409fec-f601-45ef-9438-d24b20d761f5\", \"data_sample.csv\", 19566)"
            ]
          },
          "metadata": {}
        },
        {
          "output_type": "display_data",
          "data": {
            "text/plain": [
              "<IPython.core.display.Javascript object>"
            ],
            "application/javascript": [
              "\n",
              "    async function download(id, filename, size) {\n",
              "      if (!google.colab.kernel.accessAllowed) {\n",
              "        return;\n",
              "      }\n",
              "      const div = document.createElement('div');\n",
              "      const label = document.createElement('label');\n",
              "      label.textContent = `Downloading \"${filename}\": `;\n",
              "      div.appendChild(label);\n",
              "      const progress = document.createElement('progress');\n",
              "      progress.max = size;\n",
              "      div.appendChild(progress);\n",
              "      document.body.appendChild(div);\n",
              "\n",
              "      const buffers = [];\n",
              "      let downloaded = 0;\n",
              "\n",
              "      const channel = await google.colab.kernel.comms.open(id);\n",
              "      // Send a message to notify the kernel that we're ready.\n",
              "      channel.send({})\n",
              "\n",
              "      for await (const message of channel.messages) {\n",
              "        // Send a message to notify the kernel that we're ready.\n",
              "        channel.send({})\n",
              "        if (message.buffers) {\n",
              "          for (const buffer of message.buffers) {\n",
              "            buffers.push(buffer);\n",
              "            downloaded += buffer.byteLength;\n",
              "            progress.value = downloaded;\n",
              "          }\n",
              "        }\n",
              "      }\n",
              "      const blob = new Blob(buffers, {type: 'application/binary'});\n",
              "      const a = document.createElement('a');\n",
              "      a.href = window.URL.createObjectURL(blob);\n",
              "      a.download = filename;\n",
              "      div.appendChild(a);\n",
              "      a.click();\n",
              "      div.remove();\n",
              "    }\n",
              "  "
            ]
          },
          "metadata": {}
        },
        {
          "output_type": "display_data",
          "data": {
            "text/plain": [
              "<IPython.core.display.Javascript object>"
            ],
            "application/javascript": [
              "download(\"download_36c0fdfe-5450-4ca8-b6ee-12d56287466f\", \"distribution_histogram.png\", 35663)"
            ]
          },
          "metadata": {}
        },
        {
          "output_type": "display_data",
          "data": {
            "text/plain": [
              "<IPython.core.display.Javascript object>"
            ],
            "application/javascript": [
              "\n",
              "    async function download(id, filename, size) {\n",
              "      if (!google.colab.kernel.accessAllowed) {\n",
              "        return;\n",
              "      }\n",
              "      const div = document.createElement('div');\n",
              "      const label = document.createElement('label');\n",
              "      label.textContent = `Downloading \"${filename}\": `;\n",
              "      div.appendChild(label);\n",
              "      const progress = document.createElement('progress');\n",
              "      progress.max = size;\n",
              "      div.appendChild(progress);\n",
              "      document.body.appendChild(div);\n",
              "\n",
              "      const buffers = [];\n",
              "      let downloaded = 0;\n",
              "\n",
              "      const channel = await google.colab.kernel.comms.open(id);\n",
              "      // Send a message to notify the kernel that we're ready.\n",
              "      channel.send({})\n",
              "\n",
              "      for await (const message of channel.messages) {\n",
              "        // Send a message to notify the kernel that we're ready.\n",
              "        channel.send({})\n",
              "        if (message.buffers) {\n",
              "          for (const buffer of message.buffers) {\n",
              "            buffers.push(buffer);\n",
              "            downloaded += buffer.byteLength;\n",
              "            progress.value = downloaded;\n",
              "          }\n",
              "        }\n",
              "      }\n",
              "      const blob = new Blob(buffers, {type: 'application/binary'});\n",
              "      const a = document.createElement('a');\n",
              "      a.href = window.URL.createObjectURL(blob);\n",
              "      a.download = filename;\n",
              "      div.appendChild(a);\n",
              "      a.click();\n",
              "      div.remove();\n",
              "    }\n",
              "  "
            ]
          },
          "metadata": {}
        },
        {
          "output_type": "display_data",
          "data": {
            "text/plain": [
              "<IPython.core.display.Javascript object>"
            ],
            "application/javascript": [
              "download(\"download_a2d13c81-46d0-427f-a855-366676b9138a\", \"distribution_histogram.pdf\", 15881)"
            ]
          },
          "metadata": {}
        }
      ]
    }
  ]
}