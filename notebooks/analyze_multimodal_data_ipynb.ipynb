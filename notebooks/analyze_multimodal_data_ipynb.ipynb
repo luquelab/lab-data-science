{
  "nbformat": 4,
  "nbformat_minor": 0,
  "metadata": {
    "colab": {
      "provenance": [],
      "toc_visible": true,
      "authorship_tag": "ABX9TyNAvhDIXqx1RasZrVKNVesD",
      "include_colab_link": true
    },
    "kernelspec": {
      "name": "python3",
      "display_name": "Python 3"
    },
    "language_info": {
      "name": "python"
    }
  },
  "cells": [
    {
      "cell_type": "markdown",
      "metadata": {
        "id": "view-in-github",
        "colab_type": "text"
      },
      "source": [
        "<a href=\"https://colab.research.google.com/github/luquelab/lab-data-science/blob/data-distribution/notebooks/analyze_multimodal_data_ipynb.ipynb\" target=\"_parent\"><img src=\"https://colab.research.google.com/assets/colab-badge.svg\" alt=\"Open In Colab\"/></a>"
      ]
    },
    {
      "cell_type": "markdown",
      "source": [
        "# Analyze multimodal data"
      ],
      "metadata": {
        "id": "GuZSrPzbYyuO"
      }
    },
    {
      "cell_type": "markdown",
      "source": [
        "## Description"
      ],
      "metadata": {
        "id": "D0LfPcKAY0e9"
      }
    },
    {
      "cell_type": "markdown",
      "source": [
        "## Quick-start guide"
      ],
      "metadata": {
        "id": "V06ZbNkDY4ID"
      }
    },
    {
      "cell_type": "markdown",
      "source": [
        "## Import libraries"
      ],
      "metadata": {
        "id": "u5LMX2nMY-Dv"
      }
    },
    {
      "cell_type": "markdown",
      "source": [
        "## Input parameters"
      ],
      "metadata": {
        "id": "MQnhXu1xZAjH"
      }
    },
    {
      "cell_type": "markdown",
      "source": [
        "# Code"
      ],
      "metadata": {
        "id": "NS3nj8PJZFzD"
      }
    },
    {
      "cell_type": "markdown",
      "source": [
        "## Definitions"
      ],
      "metadata": {
        "id": "Q4SOh9CLZMm_"
      }
    },
    {
      "cell_type": "markdown",
      "source": [
        "## Summary statistics"
      ],
      "metadata": {
        "id": "IgqwZq_HZT0L"
      }
    },
    {
      "cell_type": "markdown",
      "source": [
        "## Identify modes"
      ],
      "metadata": {
        "id": "laUqk8G0ZaxN"
      }
    },
    {
      "cell_type": "markdown",
      "source": [
        "# Outputs"
      ],
      "metadata": {
        "id": "kLGDo6uxZHdT"
      }
    },
    {
      "cell_type": "markdown",
      "source": [
        "## Plots"
      ],
      "metadata": {
        "id": "VYk4BZNSZhuz"
      }
    },
    {
      "cell_type": "markdown",
      "source": [
        "## Download files"
      ],
      "metadata": {
        "id": "lNpgsk5tZjju"
      }
    }
  ]
}