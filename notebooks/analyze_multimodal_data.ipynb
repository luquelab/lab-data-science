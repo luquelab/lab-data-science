{
  "nbformat": 4,
  "nbformat_minor": 0,
  "metadata": {
    "colab": {
      "provenance": [],
      "toc_visible": true,
      "authorship_tag": "ABX9TyMbmFqxHYb7gFszbUDKxRna",
      "include_colab_link": true
    },
    "kernelspec": {
      "name": "python3",
      "display_name": "Python 3"
    },
    "language_info": {
      "name": "python"
    }
  },
  "cells": [
    {
      "cell_type": "markdown",
      "metadata": {
        "id": "view-in-github",
        "colab_type": "text"
      },
      "source": [
        "<a href=\"https://colab.research.google.com/github/luquelab/lab-data-science/blob/data-distribution/notebooks/analyze_multimodal_data.ipynb\" target=\"_parent\"><img src=\"https://colab.research.google.com/assets/colab-badge.svg\" alt=\"Open In Colab\"/></a>"
      ]
    },
    {
      "cell_type": "markdown",
      "source": [
        "# Analyze multimodal data"
      ],
      "metadata": {
        "id": "GuZSrPzbYyuO"
      }
    },
    {
      "cell_type": "markdown",
      "source": [
        "## Description"
      ],
      "metadata": {
        "id": "D0LfPcKAY0e9"
      }
    },
    {
      "cell_type": "markdown",
      "source": [
        "## Quick-start guide"
      ],
      "metadata": {
        "id": "V06ZbNkDY4ID"
      }
    },
    {
      "cell_type": "markdown",
      "source": [
        "## Import libraries"
      ],
      "metadata": {
        "id": "u5LMX2nMY-Dv"
      }
    },
    {
      "cell_type": "code",
      "source": [
        "import pandas as pd\n",
        "import matplotlib.pyplot as plt\n",
        "import seaborn as sns\n",
        "import numpy as np"
      ],
      "metadata": {
        "id": "2GeKMCC_c18j"
      },
      "execution_count": 57,
      "outputs": []
    },
    {
      "cell_type": "markdown",
      "source": [
        "## Input data and parameters"
      ],
      "metadata": {
        "id": "MQnhXu1xZAjH"
      }
    },
    {
      "cell_type": "code",
      "source": [
        "# Load data as CSV (adjust path as needed)\n",
        "df = pd.read_csv('data_sample.csv')\n",
        "\n",
        "## Rename first column to 'feature'\n",
        "first_col = df.columns[0]\n",
        "df = df.rename(columns={first_col: 'feature'})\n",
        "print(f\"Dataset shape: {df.shape}\")\n"
      ],
      "metadata": {
        "id": "VU7kcwedc_uU",
        "outputId": "ea01f4fd-713d-4e61-8e90-52a76f289fdf",
        "colab": {
          "base_uri": "https://localhost:8080/"
        }
      },
      "execution_count": 22,
      "outputs": [
        {
          "output_type": "stream",
          "name": "stdout",
          "text": [
            "Dataset shape: (1000, 1)\n"
          ]
        }
      ]
    },
    {
      "cell_type": "markdown",
      "source": [
        "# Code"
      ],
      "metadata": {
        "id": "NS3nj8PJZFzD"
      }
    },
    {
      "cell_type": "markdown",
      "source": [
        "## Prototype"
      ],
      "metadata": {
        "id": "PcOCpysOZ9L1"
      }
    },
    {
      "cell_type": "code",
      "source": [
        "# Import libraries\n",
        "\n",
        "# Load data\n",
        "\n",
        "# Summarize the statistics of the data\n",
        "\n",
        "# Visual exploration of data distribution\n",
        "\n",
        "# Input multimode constraints\n",
        "\n",
        "# Obtain modes\n",
        "\n",
        "# Generate plot with distribution and histogram\n",
        "\n",
        "# Save analysis"
      ],
      "metadata": {
        "id": "0v-06oDqZ-W1"
      },
      "execution_count": null,
      "outputs": []
    },
    {
      "cell_type": "markdown",
      "source": [
        "## Definitions"
      ],
      "metadata": {
        "id": "Q4SOh9CLZMm_"
      }
    },
    {
      "cell_type": "markdown",
      "source": [
        "### Functions"
      ],
      "metadata": {
        "id": "CKMQI8hJWZqv"
      }
    },
    {
      "cell_type": "markdown",
      "source": [
        "#### Freedman-Diaconis rule\n",
        "This rule uses the interquartile range (IQR) and is widely regarded as robust for various distributions, including normal ones. The formula for bin width is:\n",
        "\n",
        "`h = 2 x IQR x n^(-1/3)`\n",
        "\n",
        "Where\n",
        "+ `h` is the bandwidth\n",
        "+ `IQR` is the interquartile range of data\n",
        "+ `n` is the number of observations\n",
        "\n",
        "This method adjusts the bin width based on data spread and sample size, making it suitable for normal distributions. For more information see [Statistics How To](https://www.statisticshowto.com/choose-bin-sizes-statistics/)\n"
      ],
      "metadata": {
        "id": "LbyyTnf9WoNf"
      }
    },
    {
      "cell_type": "code",
      "source": [
        "def freedman_diaconis_rule(data):\n",
        "  \"\"\"\n",
        "  Calculates the optimal bin size using the Freedman-Diaconis rule.\n",
        "\n",
        "  Args:\n",
        "    data: A 1D numpy array or pandas Series of numerical data.\n",
        "\n",
        "  Returns:\n",
        "    The optimal bin width.\n",
        "  \"\"\"\n",
        "  iqr = np.percentile(data, 75) - np.percentile(data, 25)\n",
        "  bin_width = 2 * iqr / (len(data) ** (1/3))\n",
        "  return bin_width\n",
        "\n",
        "# Example usage (assuming 'feature' column in your DataFrame):\n",
        "#bin_size = freedman_diaconis_rule(df['feature'])\n",
        "#print(f\"Optimal bin size (Freedman-Diaconis Rule): {bin_size}\")"
      ],
      "metadata": {
        "id": "TugrYJptWYvp"
      },
      "execution_count": 58,
      "outputs": []
    },
    {
      "cell_type": "markdown",
      "source": [
        "#### Rice rule\n",
        "The Rice Rule provides a simple approximation for determining the number of bins (\n",
        "k):\n",
        "\n",
        "`k = 2 x n^(1/3)`\n",
        "\n",
        "The bin width can then be calculated as:\n",
        "\n",
        "`h = range/k`\n",
        "\n",
        "Where `n` is the number of observations.\n",
        "\n",
        "This method is less sensitive to outliers and works reasonably well for large datasets, but it may oversmooth smaller datasets. For more information see [Statistics How To](https://www.statisticshowto.com/choose-bin-sizes-statistics/)\n"
      ],
      "metadata": {
        "id": "Vke2TwEQXt_X"
      }
    },
    {
      "cell_type": "code",
      "source": [
        "def rice_rule(data):\n",
        "  \"\"\"\n",
        "  Calculates the optimal bin size using the Rice rule.\n",
        "\n",
        "  Args:\n",
        "    data: A 1D numpy array or pandas Series of numerical data.\n",
        "\n",
        "  Returns:\n",
        "    The optimal bin width.\n",
        "  \"\"\"\n",
        "  bin_width = 2 * np.std(data) / (len(data) ** (1/3))\n",
        "  return bin_width\n",
        "\n",
        "# Example usage (assuming 'feature' column in your DataFrame):\n",
        "#bin_size = rice_rule(df['feature'])"
      ],
      "metadata": {
        "id": "oI5Gwb2YYe1K"
      },
      "execution_count": 60,
      "outputs": []
    },
    {
      "cell_type": "markdown",
      "source": [
        "#### Sturges’ rule\n",
        "Sturges’ Rule calculates the number of bins based on logarithmic scaling:\n",
        "\n",
        "`k = 1 + log2(n)`\n",
        "\n",
        "Where `k` is the number of bins and `n` is the number of observations. While simple, this rule often oversmooths histograms for large datasets, making it less suitable for precise analysis. For more information see [Statistics How To](https://www.statisticshowto.com/choose-bin-sizes-statistics/)"
      ],
      "metadata": {
        "id": "6MNJcVJZYy7n"
      }
    },
    {
      "cell_type": "code",
      "source": [
        "def sturges_rule(data):\n",
        "  \"\"\"\n",
        "  Calculates the optimal bin size using Sturge's rule.\n",
        "\n",
        "  Args:\n",
        "    data: A 1D numpy array or pandas Series of numerical data.\n",
        "\n",
        "  Returns:\n",
        "    The optimal bin width.\n",
        "  \"\"\"\n",
        "  k = 1 + np.log2(len(data))\n",
        "  return k\n",
        "\n",
        "# Example usage (assuming 'feature' column in your DataFrame):\n",
        "#bin_size = sturges_rule(df['feature'])\n",
        "#print(f\"Optimal bin size (Sturges' Rule): {bin_size}\")"
      ],
      "metadata": {
        "id": "UxZLl9rJZdJJ"
      },
      "execution_count": 61,
      "outputs": []
    },
    {
      "cell_type": "markdown",
      "source": [
        "## Descriptive statistics\n",
        "\n",
        "Generate summary statistics and supplement with skewness and kurtosis.\n",
        "\n",
        "For categorical variables, use `.value_counts(normalize=True)`\n",
        "\n",
        "Typical values to interpret [skewness](https://en.wikipedia.org/wiki/Skewness):\n",
        "+ `0`: Zero skewness: Symmetrical distribution\n",
        "+ `>0`: Positive skewness (right-skewed): The tail on the right side is longer or fatter.\n",
        "+ `<0`: Negative skewness (left-skewed): The tail on the left side is longer or fatter.\n",
        "+ `0`: Normal distribution\n",
        "+ `1`: Half-normal distribution\n",
        "+ `2`: Exponential distribution\n",
        "+ `>0`: Lognormal distribution\n",
        "\n",
        "Typical values to interpret the [Kurtosis](https://en.wikipedia.org/wiki/Kurtosis):\n",
        "+ `~3`: Mesokurtic: A normal distribution with moderate tails.\n",
        "+ `>3`: Leptokurtic: A distribution with heavy tails.\n",
        "+ `<3`: Platykurtic: A distribution with light tails."
      ],
      "metadata": {
        "id": "IgqwZq_HZT0L"
      }
    },
    {
      "cell_type": "code",
      "source": [
        "# Summary stats\n",
        "stats_summary = df.describe(include='all').T\n",
        "stats_summary['range'] = df.max() - df.min()\n",
        "stats_summary['IQR'] = df.quantile(0.75) - df.quantile(0.25)\n",
        "stats_summary['skewness'] = df.skew()\n",
        "stats_summary['kurtosis'] = df.kurtosis()\n"
      ],
      "metadata": {
        "id": "MZ5goVYrfgBV"
      },
      "execution_count": 38,
      "outputs": []
    },
    {
      "cell_type": "code",
      "source": [
        "# Export the summary\n",
        "# stats_summary.to_csv('statistical_summary.csv')\n",
        "stats_summary.T.to_csv('statistical_summary.csv')"
      ],
      "metadata": {
        "id": "lv-MTYfigLNW"
      },
      "execution_count": 39,
      "outputs": []
    },
    {
      "cell_type": "markdown",
      "source": [
        "## Qualitative multimodality assessment"
      ],
      "metadata": {
        "id": "90I-1nFSlCqk"
      }
    },
    {
      "cell_type": "markdown",
      "source": [
        "Visualize potential multimodality by superimposing a kernel density estimate (KDE) on a histogram"
      ],
      "metadata": {
        "id": "jficiq-hlIAO"
      }
    },
    {
      "cell_type": "code",
      "source": [
        "plt.figure(figsize=(10, 6))\n",
        "sns.histplot(df['feature'], bins=30, kde=True, stat='density')\n",
        "plt.title('Histogram with KDE')\n",
        "plt.xlabel('Feature Values')\n",
        "plt.ylabel('Density')\n",
        "plt.show()\n"
      ],
      "metadata": {
        "colab": {
          "base_uri": "https://localhost:8080/",
          "height": 564
        },
        "id": "c_OBNsMolLLW",
        "outputId": "d7091991-16c7-4011-b439-ea9b781824a4"
      },
      "execution_count": 25,
      "outputs": [
        {
          "output_type": "display_data",
          "data": {
            "text/plain": [
              "<Figure size 1000x600 with 1 Axes>"
            ],
            "image/png": "[encoded data removed]"
          },
          "metadata": {}
        }
      ]
    },
    {
      "cell_type": "markdown",
      "source": [
        "## Identify modes"
      ],
      "metadata": {
        "id": "laUqk8G0ZaxN"
      }
    },
    {
      "cell_type": "markdown",
      "source": [
        "# Outputs"
      ],
      "metadata": {
        "id": "kLGDo6uxZHdT"
      }
    },
    {
      "cell_type": "markdown",
      "source": [
        "## Plots"
      ],
      "metadata": {
        "id": "VYk4BZNSZhuz"
      }
    },
    {
      "cell_type": "markdown",
      "source": [
        "## Download files"
      ],
      "metadata": {
        "id": "lNpgsk5tZjju"
      }
    }
  ]
}